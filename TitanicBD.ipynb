{
 "cells": [
  {
   "cell_type": "markdown",
   "metadata": {},
   "source": [
    "<span><font size=\"5\"><b>Credit:</b></font></span>\n",
    "\n",
    "<br>I learnt and copied a lot from</br>\n",
    "\n",
    "<br><b>[Konstantin: Titanic [0.82] - [0.83]]</b><a href='https://www.kaggle.com/konstantinmasich/titanic-0-82-0-83'>(https://www.kaggle.com/konstantinmasich/titanic-0-82-0-83)</a></br>\n",
    "<br><b>[Chris Deotte: Titanic using Name Only]</b><a href='https://www.kaggle.com/cdeotte/titanic-using-name-only-0-81818'>(https://www.kaggle.com/cdeotte/titanic-using-name-only-0-81818)</a></br>\n",
    "<br><b>[Yvon Dalat: Titanic, a step-by-step intro to Machine Learning]</b><a href='https://www.kaggle.com/ydalat/titanic-a-step-by-step-intro-to-machine-learning'>(https://www.kaggle.com/ydalat/titanic-a-step-by-step-intro-to-machine-learning)</a></br>\n",
    "<br><b>[Anisotropic: ~0.808 with Simple Stacking]</b><a href='https://www.kaggle.com/arthurtok/0-808-with-simple-stacking'>(https://www.kaggle.com/arthurtok/0-808-with-simple-stacking)</a></br>\n",
    "\n",
    "<br>Thank you for making these nice kernels.</br>"
   ]
  },
  {
   "cell_type": "markdown",
   "metadata": {},
   "source": [
    "# 1. Data Visualization and Preprocessing"
   ]
  },
  {
   "cell_type": "markdown",
   "metadata": {},
   "source": [
    "## A. Load Python Libraries"
   ]
  },
  {
   "cell_type": "code",
   "execution_count": 1,
   "metadata": {},
   "outputs": [
    {
     "data": {
      "text/html": [
       "<script>requirejs.config({paths: { 'plotly': ['https://cdn.plot.ly/plotly-latest.min']},});if(!window.Plotly) {{require(['plotly'],function(plotly) {window.Plotly=plotly;});}}</script>"
      ],
      "text/vnd.plotly.v1+html": [
       "<script>requirejs.config({paths: { 'plotly': ['https://cdn.plot.ly/plotly-latest.min']},});if(!window.Plotly) {{require(['plotly'],function(plotly) {window.Plotly=plotly;});}}</script>"
      ]
     },
     "metadata": {},
     "output_type": "display_data"
    },
    {
     "name": "stderr",
     "output_type": "stream",
     "text": [
      "/Users/minjielu/anaconda3/lib/python3.6/site-packages/sklearn/cross_validation.py:41: DeprecationWarning:\n",
      "\n",
      "This module was deprecated in version 0.18 in favor of the model_selection module into which all the refactored classes and functions are moved. Also note that the interface of the new CV iterators are different from that of this module. This module will be removed in 0.20.\n",
      "\n"
     ]
    }
   ],
   "source": [
    "# Load libraries for analysis and visualization\n",
    "import pandas as pd # collection of functions for data processing and analysis modeled after R dataframes with SQL like features\n",
    "import numpy as np  # foundational package for scientific computing\n",
    "import re           # Regular expression operations\n",
    "import matplotlib.pyplot as plt # Collection of functions for scientific and publication-ready visualization\n",
    "\n",
    "%matplotlib inline\n",
    "\n",
    "import plotly.offline as py     # Open source library for composing, editing, and sharing interactive data visualization \n",
    "from matplotlib import pyplot\n",
    "py.init_notebook_mode(connected=True)\n",
    "import plotly.graph_objs as go\n",
    "import plotly.tools as tls\n",
    "from collections import Counter\n",
    "\n",
    "# Machine learning libraries\n",
    "import sys\n",
    "sys.path.append('/Users/minjielu/anaconda3/envs/python/lib/python3.5/site-packages')\n",
    "\n",
    "import xgboost as xgb  # Implementation of gradient boosted decision trees designed for speed and performance that is dominative competitive machine learning\n",
    "import seaborn as sns  # Visualization library based on matplotlib, provides interface for drawing attractive statistical graphics\n",
    "\n",
    "import sklearn         # Collection of machine learning algorithms\n",
    "from sklearn.linear_model import LogisticRegression\n",
    "from sklearn.svm import SVC, LinearSVC\n",
    "from sklearn.ensemble import (RandomForestClassifier, AdaBoostClassifier, \n",
    "                              GradientBoostingClassifier, ExtraTreesClassifier, VotingClassifier)\n",
    "from sklearn.cross_validation import KFold\n",
    "from sklearn.neighbors import KNeighborsClassifier\n",
    "from sklearn.naive_bayes import GaussianNB\n",
    "from sklearn.linear_model import Perceptron\n",
    "from sklearn.linear_model import SGDClassifier\n",
    "from sklearn.tree import DecisionTreeClassifier\n",
    "from sklearn.model_selection import GridSearchCV, cross_val_score, StratifiedKFold, learning_curve\n",
    "from sklearn.preprocessing import StandardScaler, LabelEncoder\n",
    "from sklearn.model_selection import train_test_split\n",
    "from sklearn.metrics import accuracy_score,classification_report, precision_recall_curve, confusion_matrix\n",
    "\n",
    "import warnings\n",
    "warnings.filterwarnings('ignore')"
   ]
  },
  {
   "cell_type": "markdown",
   "metadata": {},
   "source": [
    "## B. Load and Visualize Dataset"
   ]
  },
  {
   "cell_type": "code",
   "execution_count": 2,
   "metadata": {},
   "outputs": [],
   "source": [
    "# Load train and test datasets from CSV files\n",
    "train = pd.read_csv('./data/train.csv')\n",
    "test = pd.read_csv('./data/test.csv')\n",
    "\n",
    "# Record passenger ids of test set for composing submission files\n",
    "passengerid = test['PassengerId']\n",
    "\n",
    "full_data = [train,test]"
   ]
  },
  {
   "cell_type": "code",
   "execution_count": 3,
   "metadata": {},
   "outputs": [
    {
     "data": {
      "text/html": [
       "<div>\n",
       "<style scoped>\n",
       "    .dataframe tbody tr th:only-of-type {\n",
       "        vertical-align: middle;\n",
       "    }\n",
       "\n",
       "    .dataframe tbody tr th {\n",
       "        vertical-align: top;\n",
       "    }\n",
       "\n",
       "    .dataframe thead th {\n",
       "        text-align: right;\n",
       "    }\n",
       "</style>\n",
       "<table border=\"1\" class=\"dataframe\">\n",
       "  <thead>\n",
       "    <tr style=\"text-align: right;\">\n",
       "      <th></th>\n",
       "      <th>PassengerId</th>\n",
       "      <th>Survived</th>\n",
       "      <th>Pclass</th>\n",
       "      <th>Name</th>\n",
       "      <th>Sex</th>\n",
       "      <th>Age</th>\n",
       "      <th>SibSp</th>\n",
       "      <th>Parch</th>\n",
       "      <th>Ticket</th>\n",
       "      <th>Fare</th>\n",
       "      <th>Cabin</th>\n",
       "      <th>Embarked</th>\n",
       "    </tr>\n",
       "  </thead>\n",
       "  <tbody>\n",
       "    <tr>\n",
       "      <th>623</th>\n",
       "      <td>624</td>\n",
       "      <td>0</td>\n",
       "      <td>3</td>\n",
       "      <td>Hansen, Mr. Henry Damsgaard</td>\n",
       "      <td>male</td>\n",
       "      <td>21.0</td>\n",
       "      <td>0</td>\n",
       "      <td>0</td>\n",
       "      <td>350029</td>\n",
       "      <td>7.8542</td>\n",
       "      <td>NaN</td>\n",
       "      <td>S</td>\n",
       "    </tr>\n",
       "    <tr>\n",
       "      <th>778</th>\n",
       "      <td>779</td>\n",
       "      <td>0</td>\n",
       "      <td>3</td>\n",
       "      <td>Kilgannon, Mr. Thomas J</td>\n",
       "      <td>male</td>\n",
       "      <td>NaN</td>\n",
       "      <td>0</td>\n",
       "      <td>0</td>\n",
       "      <td>36865</td>\n",
       "      <td>7.7375</td>\n",
       "      <td>NaN</td>\n",
       "      <td>Q</td>\n",
       "    </tr>\n",
       "    <tr>\n",
       "      <th>253</th>\n",
       "      <td>254</td>\n",
       "      <td>0</td>\n",
       "      <td>3</td>\n",
       "      <td>Lobb, Mr. William Arthur</td>\n",
       "      <td>male</td>\n",
       "      <td>30.0</td>\n",
       "      <td>1</td>\n",
       "      <td>0</td>\n",
       "      <td>A/5. 3336</td>\n",
       "      <td>16.1000</td>\n",
       "      <td>NaN</td>\n",
       "      <td>S</td>\n",
       "    </tr>\n",
       "    <tr>\n",
       "      <th>413</th>\n",
       "      <td>414</td>\n",
       "      <td>0</td>\n",
       "      <td>2</td>\n",
       "      <td>Cunningham, Mr. Alfred Fleming</td>\n",
       "      <td>male</td>\n",
       "      <td>NaN</td>\n",
       "      <td>0</td>\n",
       "      <td>0</td>\n",
       "      <td>239853</td>\n",
       "      <td>0.0000</td>\n",
       "      <td>NaN</td>\n",
       "      <td>S</td>\n",
       "    </tr>\n",
       "    <tr>\n",
       "      <th>10</th>\n",
       "      <td>11</td>\n",
       "      <td>1</td>\n",
       "      <td>3</td>\n",
       "      <td>Sandstrom, Miss. Marguerite Rut</td>\n",
       "      <td>female</td>\n",
       "      <td>4.0</td>\n",
       "      <td>1</td>\n",
       "      <td>1</td>\n",
       "      <td>PP 9549</td>\n",
       "      <td>16.7000</td>\n",
       "      <td>G6</td>\n",
       "      <td>S</td>\n",
       "    </tr>\n",
       "  </tbody>\n",
       "</table>\n",
       "</div>"
      ],
      "text/plain": [
       "     PassengerId  Survived  Pclass                             Name     Sex  \\\n",
       "623          624         0       3      Hansen, Mr. Henry Damsgaard    male   \n",
       "778          779         0       3          Kilgannon, Mr. Thomas J    male   \n",
       "253          254         0       3         Lobb, Mr. William Arthur    male   \n",
       "413          414         0       2   Cunningham, Mr. Alfred Fleming    male   \n",
       "10            11         1       3  Sandstrom, Miss. Marguerite Rut  female   \n",
       "\n",
       "      Age  SibSp  Parch     Ticket     Fare Cabin Embarked  \n",
       "623  21.0      0      0     350029   7.8542   NaN        S  \n",
       "778   NaN      0      0      36865   7.7375   NaN        Q  \n",
       "253  30.0      1      0  A/5. 3336  16.1000   NaN        S  \n",
       "413   NaN      0      0     239853   0.0000   NaN        S  \n",
       "10    4.0      1      1    PP 9549  16.7000    G6        S  "
      ]
     },
     "execution_count": 3,
     "metadata": {},
     "output_type": "execute_result"
    }
   ],
   "source": [
    "train.sample(5)"
   ]
  },
  {
   "cell_type": "code",
   "execution_count": 4,
   "metadata": {},
   "outputs": [
    {
     "name": "stdout",
     "output_type": "stream",
     "text": [
      "<class 'pandas.core.frame.DataFrame'>\n",
      "RangeIndex: 891 entries, 0 to 890\n",
      "Data columns (total 12 columns):\n",
      "PassengerId    891 non-null int64\n",
      "Survived       891 non-null int64\n",
      "Pclass         891 non-null int64\n",
      "Name           891 non-null object\n",
      "Sex            891 non-null object\n",
      "Age            714 non-null float64\n",
      "SibSp          891 non-null int64\n",
      "Parch          891 non-null int64\n",
      "Ticket         891 non-null object\n",
      "Fare           891 non-null float64\n",
      "Cabin          204 non-null object\n",
      "Embarked       889 non-null object\n",
      "dtypes: float64(2), int64(5), object(5)\n",
      "memory usage: 83.6+ KB\n"
     ]
    }
   ],
   "source": [
    "train.info(5)"
   ]
  },
  {
   "cell_type": "code",
   "execution_count": 5,
   "metadata": {
    "scrolled": true
   },
   "outputs": [
    {
     "data": {
      "text/html": [
       "<div>\n",
       "<style scoped>\n",
       "    .dataframe tbody tr th:only-of-type {\n",
       "        vertical-align: middle;\n",
       "    }\n",
       "\n",
       "    .dataframe tbody tr th {\n",
       "        vertical-align: top;\n",
       "    }\n",
       "\n",
       "    .dataframe thead th {\n",
       "        text-align: right;\n",
       "    }\n",
       "</style>\n",
       "<table border=\"1\" class=\"dataframe\">\n",
       "  <thead>\n",
       "    <tr style=\"text-align: right;\">\n",
       "      <th></th>\n",
       "      <th>PassengerId</th>\n",
       "      <th>Survived</th>\n",
       "      <th>Pclass</th>\n",
       "      <th>Age</th>\n",
       "      <th>SibSp</th>\n",
       "      <th>Parch</th>\n",
       "      <th>Fare</th>\n",
       "    </tr>\n",
       "  </thead>\n",
       "  <tbody>\n",
       "    <tr>\n",
       "      <th>count</th>\n",
       "      <td>891.000000</td>\n",
       "      <td>891.000000</td>\n",
       "      <td>891.000000</td>\n",
       "      <td>714.000000</td>\n",
       "      <td>891.000000</td>\n",
       "      <td>891.000000</td>\n",
       "      <td>891.000000</td>\n",
       "    </tr>\n",
       "    <tr>\n",
       "      <th>mean</th>\n",
       "      <td>446.000000</td>\n",
       "      <td>0.383838</td>\n",
       "      <td>2.308642</td>\n",
       "      <td>29.699118</td>\n",
       "      <td>0.523008</td>\n",
       "      <td>0.381594</td>\n",
       "      <td>32.204208</td>\n",
       "    </tr>\n",
       "    <tr>\n",
       "      <th>std</th>\n",
       "      <td>257.353842</td>\n",
       "      <td>0.486592</td>\n",
       "      <td>0.836071</td>\n",
       "      <td>14.526497</td>\n",
       "      <td>1.102743</td>\n",
       "      <td>0.806057</td>\n",
       "      <td>49.693429</td>\n",
       "    </tr>\n",
       "    <tr>\n",
       "      <th>min</th>\n",
       "      <td>1.000000</td>\n",
       "      <td>0.000000</td>\n",
       "      <td>1.000000</td>\n",
       "      <td>0.420000</td>\n",
       "      <td>0.000000</td>\n",
       "      <td>0.000000</td>\n",
       "      <td>0.000000</td>\n",
       "    </tr>\n",
       "    <tr>\n",
       "      <th>25%</th>\n",
       "      <td>223.500000</td>\n",
       "      <td>0.000000</td>\n",
       "      <td>2.000000</td>\n",
       "      <td>20.125000</td>\n",
       "      <td>0.000000</td>\n",
       "      <td>0.000000</td>\n",
       "      <td>7.910400</td>\n",
       "    </tr>\n",
       "    <tr>\n",
       "      <th>50%</th>\n",
       "      <td>446.000000</td>\n",
       "      <td>0.000000</td>\n",
       "      <td>3.000000</td>\n",
       "      <td>28.000000</td>\n",
       "      <td>0.000000</td>\n",
       "      <td>0.000000</td>\n",
       "      <td>14.454200</td>\n",
       "    </tr>\n",
       "    <tr>\n",
       "      <th>75%</th>\n",
       "      <td>668.500000</td>\n",
       "      <td>1.000000</td>\n",
       "      <td>3.000000</td>\n",
       "      <td>38.000000</td>\n",
       "      <td>1.000000</td>\n",
       "      <td>0.000000</td>\n",
       "      <td>31.000000</td>\n",
       "    </tr>\n",
       "    <tr>\n",
       "      <th>max</th>\n",
       "      <td>891.000000</td>\n",
       "      <td>1.000000</td>\n",
       "      <td>3.000000</td>\n",
       "      <td>80.000000</td>\n",
       "      <td>8.000000</td>\n",
       "      <td>6.000000</td>\n",
       "      <td>512.329200</td>\n",
       "    </tr>\n",
       "  </tbody>\n",
       "</table>\n",
       "</div>"
      ],
      "text/plain": [
       "       PassengerId    Survived      Pclass         Age       SibSp  \\\n",
       "count   891.000000  891.000000  891.000000  714.000000  891.000000   \n",
       "mean    446.000000    0.383838    2.308642   29.699118    0.523008   \n",
       "std     257.353842    0.486592    0.836071   14.526497    1.102743   \n",
       "min       1.000000    0.000000    1.000000    0.420000    0.000000   \n",
       "25%     223.500000    0.000000    2.000000   20.125000    0.000000   \n",
       "50%     446.000000    0.000000    3.000000   28.000000    0.000000   \n",
       "75%     668.500000    1.000000    3.000000   38.000000    1.000000   \n",
       "max     891.000000    1.000000    3.000000   80.000000    8.000000   \n",
       "\n",
       "            Parch        Fare  \n",
       "count  891.000000  891.000000  \n",
       "mean     0.381594   32.204208  \n",
       "std      0.806057   49.693429  \n",
       "min      0.000000    0.000000  \n",
       "25%      0.000000    7.910400  \n",
       "50%      0.000000   14.454200  \n",
       "75%      0.000000   31.000000  \n",
       "max      6.000000  512.329200  "
      ]
     },
     "execution_count": 5,
     "metadata": {},
     "output_type": "execute_result"
    }
   ],
   "source": [
    "train.describe()"
   ]
  },
  {
   "cell_type": "code",
   "execution_count": 6,
   "metadata": {},
   "outputs": [
    {
     "data": {
      "text/html": [
       "<div>\n",
       "<style scoped>\n",
       "    .dataframe tbody tr th:only-of-type {\n",
       "        vertical-align: middle;\n",
       "    }\n",
       "\n",
       "    .dataframe tbody tr th {\n",
       "        vertical-align: top;\n",
       "    }\n",
       "\n",
       "    .dataframe thead th {\n",
       "        text-align: right;\n",
       "    }\n",
       "</style>\n",
       "<table border=\"1\" class=\"dataframe\">\n",
       "  <thead>\n",
       "    <tr style=\"text-align: right;\">\n",
       "      <th></th>\n",
       "      <th>PassengerId</th>\n",
       "      <th>Pclass</th>\n",
       "      <th>Name</th>\n",
       "      <th>Sex</th>\n",
       "      <th>Age</th>\n",
       "      <th>SibSp</th>\n",
       "      <th>Parch</th>\n",
       "      <th>Ticket</th>\n",
       "      <th>Fare</th>\n",
       "      <th>Cabin</th>\n",
       "      <th>Embarked</th>\n",
       "    </tr>\n",
       "  </thead>\n",
       "  <tbody>\n",
       "    <tr>\n",
       "      <th>77</th>\n",
       "      <td>969</td>\n",
       "      <td>1</td>\n",
       "      <td>Cornell, Mrs. Robert Clifford (Malvina Helen L...</td>\n",
       "      <td>female</td>\n",
       "      <td>55.0</td>\n",
       "      <td>2</td>\n",
       "      <td>0</td>\n",
       "      <td>11770</td>\n",
       "      <td>25.7000</td>\n",
       "      <td>C101</td>\n",
       "      <td>S</td>\n",
       "    </tr>\n",
       "    <tr>\n",
       "      <th>381</th>\n",
       "      <td>1273</td>\n",
       "      <td>3</td>\n",
       "      <td>Foley, Mr. Joseph</td>\n",
       "      <td>male</td>\n",
       "      <td>26.0</td>\n",
       "      <td>0</td>\n",
       "      <td>0</td>\n",
       "      <td>330910</td>\n",
       "      <td>7.8792</td>\n",
       "      <td>NaN</td>\n",
       "      <td>Q</td>\n",
       "    </tr>\n",
       "    <tr>\n",
       "      <th>67</th>\n",
       "      <td>959</td>\n",
       "      <td>1</td>\n",
       "      <td>Moore, Mr. Clarence Bloomfield</td>\n",
       "      <td>male</td>\n",
       "      <td>47.0</td>\n",
       "      <td>0</td>\n",
       "      <td>0</td>\n",
       "      <td>113796</td>\n",
       "      <td>42.4000</td>\n",
       "      <td>NaN</td>\n",
       "      <td>S</td>\n",
       "    </tr>\n",
       "    <tr>\n",
       "      <th>222</th>\n",
       "      <td>1114</td>\n",
       "      <td>2</td>\n",
       "      <td>Cook, Mrs. (Selena Rogers)</td>\n",
       "      <td>female</td>\n",
       "      <td>22.0</td>\n",
       "      <td>0</td>\n",
       "      <td>0</td>\n",
       "      <td>W./C. 14266</td>\n",
       "      <td>10.5000</td>\n",
       "      <td>F33</td>\n",
       "      <td>S</td>\n",
       "    </tr>\n",
       "    <tr>\n",
       "      <th>388</th>\n",
       "      <td>1280</td>\n",
       "      <td>3</td>\n",
       "      <td>Canavan, Mr. Patrick</td>\n",
       "      <td>male</td>\n",
       "      <td>21.0</td>\n",
       "      <td>0</td>\n",
       "      <td>0</td>\n",
       "      <td>364858</td>\n",
       "      <td>7.7500</td>\n",
       "      <td>NaN</td>\n",
       "      <td>Q</td>\n",
       "    </tr>\n",
       "  </tbody>\n",
       "</table>\n",
       "</div>"
      ],
      "text/plain": [
       "     PassengerId  Pclass                                               Name  \\\n",
       "77           969       1  Cornell, Mrs. Robert Clifford (Malvina Helen L...   \n",
       "381         1273       3                                  Foley, Mr. Joseph   \n",
       "67           959       1                     Moore, Mr. Clarence Bloomfield   \n",
       "222         1114       2                         Cook, Mrs. (Selena Rogers)   \n",
       "388         1280       3                               Canavan, Mr. Patrick   \n",
       "\n",
       "        Sex   Age  SibSp  Parch       Ticket     Fare Cabin Embarked  \n",
       "77   female  55.0      2      0        11770  25.7000  C101        S  \n",
       "381    male  26.0      0      0       330910   7.8792   NaN        Q  \n",
       "67     male  47.0      0      0       113796  42.4000   NaN        S  \n",
       "222  female  22.0      0      0  W./C. 14266  10.5000   F33        S  \n",
       "388    male  21.0      0      0       364858   7.7500   NaN        Q  "
      ]
     },
     "execution_count": 6,
     "metadata": {},
     "output_type": "execute_result"
    }
   ],
   "source": [
    "test.sample(5)"
   ]
  },
  {
   "cell_type": "code",
   "execution_count": 7,
   "metadata": {},
   "outputs": [
    {
     "name": "stdout",
     "output_type": "stream",
     "text": [
      "<class 'pandas.core.frame.DataFrame'>\n",
      "RangeIndex: 418 entries, 0 to 417\n",
      "Data columns (total 11 columns):\n",
      "PassengerId    418 non-null int64\n",
      "Pclass         418 non-null int64\n",
      "Name           418 non-null object\n",
      "Sex            418 non-null object\n",
      "Age            332 non-null float64\n",
      "SibSp          418 non-null int64\n",
      "Parch          418 non-null int64\n",
      "Ticket         418 non-null object\n",
      "Fare           417 non-null float64\n",
      "Cabin          91 non-null object\n",
      "Embarked       418 non-null object\n",
      "dtypes: float64(2), int64(4), object(5)\n",
      "memory usage: 36.0+ KB\n"
     ]
    }
   ],
   "source": [
    "test.info()"
   ]
  },
  {
   "cell_type": "code",
   "execution_count": 8,
   "metadata": {},
   "outputs": [
    {
     "data": {
      "text/html": [
       "<div>\n",
       "<style scoped>\n",
       "    .dataframe tbody tr th:only-of-type {\n",
       "        vertical-align: middle;\n",
       "    }\n",
       "\n",
       "    .dataframe tbody tr th {\n",
       "        vertical-align: top;\n",
       "    }\n",
       "\n",
       "    .dataframe thead th {\n",
       "        text-align: right;\n",
       "    }\n",
       "</style>\n",
       "<table border=\"1\" class=\"dataframe\">\n",
       "  <thead>\n",
       "    <tr style=\"text-align: right;\">\n",
       "      <th></th>\n",
       "      <th>PassengerId</th>\n",
       "      <th>Pclass</th>\n",
       "      <th>Age</th>\n",
       "      <th>SibSp</th>\n",
       "      <th>Parch</th>\n",
       "      <th>Fare</th>\n",
       "    </tr>\n",
       "  </thead>\n",
       "  <tbody>\n",
       "    <tr>\n",
       "      <th>count</th>\n",
       "      <td>418.000000</td>\n",
       "      <td>418.000000</td>\n",
       "      <td>332.000000</td>\n",
       "      <td>418.000000</td>\n",
       "      <td>418.000000</td>\n",
       "      <td>417.000000</td>\n",
       "    </tr>\n",
       "    <tr>\n",
       "      <th>mean</th>\n",
       "      <td>1100.500000</td>\n",
       "      <td>2.265550</td>\n",
       "      <td>30.272590</td>\n",
       "      <td>0.447368</td>\n",
       "      <td>0.392344</td>\n",
       "      <td>35.627188</td>\n",
       "    </tr>\n",
       "    <tr>\n",
       "      <th>std</th>\n",
       "      <td>120.810458</td>\n",
       "      <td>0.841838</td>\n",
       "      <td>14.181209</td>\n",
       "      <td>0.896760</td>\n",
       "      <td>0.981429</td>\n",
       "      <td>55.907576</td>\n",
       "    </tr>\n",
       "    <tr>\n",
       "      <th>min</th>\n",
       "      <td>892.000000</td>\n",
       "      <td>1.000000</td>\n",
       "      <td>0.170000</td>\n",
       "      <td>0.000000</td>\n",
       "      <td>0.000000</td>\n",
       "      <td>0.000000</td>\n",
       "    </tr>\n",
       "    <tr>\n",
       "      <th>25%</th>\n",
       "      <td>996.250000</td>\n",
       "      <td>1.000000</td>\n",
       "      <td>21.000000</td>\n",
       "      <td>0.000000</td>\n",
       "      <td>0.000000</td>\n",
       "      <td>7.895800</td>\n",
       "    </tr>\n",
       "    <tr>\n",
       "      <th>50%</th>\n",
       "      <td>1100.500000</td>\n",
       "      <td>3.000000</td>\n",
       "      <td>27.000000</td>\n",
       "      <td>0.000000</td>\n",
       "      <td>0.000000</td>\n",
       "      <td>14.454200</td>\n",
       "    </tr>\n",
       "    <tr>\n",
       "      <th>75%</th>\n",
       "      <td>1204.750000</td>\n",
       "      <td>3.000000</td>\n",
       "      <td>39.000000</td>\n",
       "      <td>1.000000</td>\n",
       "      <td>0.000000</td>\n",
       "      <td>31.500000</td>\n",
       "    </tr>\n",
       "    <tr>\n",
       "      <th>max</th>\n",
       "      <td>1309.000000</td>\n",
       "      <td>3.000000</td>\n",
       "      <td>76.000000</td>\n",
       "      <td>8.000000</td>\n",
       "      <td>9.000000</td>\n",
       "      <td>512.329200</td>\n",
       "    </tr>\n",
       "  </tbody>\n",
       "</table>\n",
       "</div>"
      ],
      "text/plain": [
       "       PassengerId      Pclass         Age       SibSp       Parch        Fare\n",
       "count   418.000000  418.000000  332.000000  418.000000  418.000000  417.000000\n",
       "mean   1100.500000    2.265550   30.272590    0.447368    0.392344   35.627188\n",
       "std     120.810458    0.841838   14.181209    0.896760    0.981429   55.907576\n",
       "min     892.000000    1.000000    0.170000    0.000000    0.000000    0.000000\n",
       "25%     996.250000    1.000000   21.000000    0.000000    0.000000    7.895800\n",
       "50%    1100.500000    3.000000   27.000000    0.000000    0.000000   14.454200\n",
       "75%    1204.750000    3.000000   39.000000    1.000000    0.000000   31.500000\n",
       "max    1309.000000    3.000000   76.000000    8.000000    9.000000  512.329200"
      ]
     },
     "execution_count": 8,
     "metadata": {},
     "output_type": "execute_result"
    }
   ],
   "source": [
    "test.describe()"
   ]
  },
  {
   "cell_type": "code",
   "execution_count": 9,
   "metadata": {},
   "outputs": [
    {
     "data": {
      "image/png": "[encoded data removed]",
      "text/plain": [
       "<Figure size 1728x1152 with 5 Axes>"
      ]
     },
     "metadata": {},
     "output_type": "display_data"
    }
   ],
   "source": [
    "# Set font sizes for figure display\n",
    "SMALL_SIZE = 13\n",
    "MEDIUM_SIZE = 17\n",
    "LARGE_SIZE = 21\n",
    "\n",
    "plt.rc('font', size=SMALL_SIZE)           # controls default text sizes\n",
    "plt.rc('axes', titlesize=MEDIUM_SIZE)     # fontsize of the titles\n",
    "plt.rc('axes', labelsize=LARGE_SIZE)      # fontsize of the x and y labels\n",
    "plt.rc('xtick', labelsize=SMALL_SIZE)     # fontsize of the tick labels\n",
    "plt.rc('ytick', labelsize=SMALL_SIZE)     # fontsize of the tick labels\n",
    "\n",
    "f,ax = plt.subplots(2,3,figsize=(24,16))\n",
    "\n",
    "f.subplots_adjust(wspace=0.2,hspace=0.3)\n",
    "f.delaxes(ax[1,2])\n",
    "\n",
    "sns.barplot(x='Pclass',y='Survived',data=train,ax=ax[0,0])\n",
    "sns.barplot(x='Sex',y='Survived',data=train,ax=ax[0,1])\n",
    "sns.barplot(x='SibSp',y='Survived',data=train,ax=ax[0,2])\n",
    "sns.barplot(x='Parch',y='Survived',data=train,ax=ax[1,0])\n",
    "sns.barplot(x='Embarked',y='Survived',data=train,ax=ax[1,1])\n",
    "\n",
    "_ = ax[0,0].set_title('Survival Rate by Class',fontweight='bold')\n",
    "_ = ax[0,1].set_title('Survival Rate by Sex',fontweight='bold')\n",
    "_ = ax[0,2].set_title('Survival Rate \\n by Number of Siblings/Spouses',fontweight='bold')\n",
    "_ = ax[1,0].set_title('Survival Rate \\n by Number of Parent/children',fontweight='bold')\n",
    "_ = ax[1,1].set_title('Survival Rate \\n by Port of Embarkation',fontweight='bold')"
   ]
  },
  {
   "cell_type": "markdown",
   "metadata": {},
   "source": [
    "__Observations from these plots__"
   ]
  },
  {
   "cell_type": "markdown",
   "metadata": {},
   "source": [
    "1. __Sex__ plays a very determinant role on deciding survival rate. Female has a much higher survival rate since ladies and children first.\n",
    "2. Survival rate increases when __Pclass__ becomes higher. \n",
    "3. Passengers with no __SibSp__ on board have a less survival rate. It is understandable since these passengers are trying to survive by themselves. Except for these lonely individuals, survival rate generally decreases when __SibSp__ increases.\n",
    "4. The same rule can be observed for __Parch__. Even though passengers with 3 parent and children have a high survival rate, but there is not enough samples so the deviation is large.\n",
    "5. Passengers __Embarked__ at Cherbourg have the best survival rate. Those __Embarked__ at Southampton have the worst survival rate.\n",
    "6. From the train dataset, categories of passengers having a survival rat e larger than 0.5 include passenger of the first class, female passengers, passengers with 1 siblings/spouses or 1 or 2 parent/children, and passengers embark at Cherbourg."
   ]
  },
  {
   "cell_type": "code",
   "execution_count": 10,
   "metadata": {},
   "outputs": [],
   "source": [
    "# Fill nan items in Embarked\n",
    "# Since only two items in the train set have nan Embarked, it should be\n",
    "# okay to suppose they all embarked at Southampton where most passengers embarked\n",
    "train['Embarked'] = train['Embarked'].fillna('S')\n",
    "\n",
    "# Map some literal attributes to integer attributes\n",
    "# In order to support linear classifiers, attributes Embarked, SibSp and Parch are reordered\n",
    "# so that categories of larger number has larger survival rate\n",
    "for dataset in full_data:\n",
    "    dataset['Sex'] = dataset['Sex'].map({'male':0,'female':1}).astype(int)\n",
    "    dataset['Embarked'] = dataset['Embarked'].map({'S':0,'C':2,'Q':1}).astype(int)"
   ]
  },
  {
   "cell_type": "code",
   "execution_count": 11,
   "metadata": {},
   "outputs": [
    {
     "data": {
      "image/png": "[encoded data removed]",
      "text/plain": [
       "<Figure size 1384.53x216 with 1 Axes>"
      ]
     },
     "metadata": {},
     "output_type": "display_data"
    }
   ],
   "source": [
    "a = sns.FacetGrid(train,hue='Survived',aspect=6)\n",
    "a.map(sns.kdeplot,'Age',shade=True)\n",
    "a.add_legend()\n",
    "_ = a.axes[0,0].set_title('KDE plot for Survival Rate versus Age',fontweight='bold')"
   ]
  },
  {
   "cell_type": "code",
   "execution_count": 12,
   "metadata": {},
   "outputs": [
    {
     "data": {
      "text/plain": [
       "4.787316519674893"
      ]
     },
     "execution_count": 12,
     "metadata": {},
     "output_type": "execute_result"
    }
   ],
   "source": [
    "# Skewness is a measurement of degree of asymmetry\n",
    "train['Fare'].skew()"
   ]
  },
  {
   "cell_type": "code",
   "execution_count": 13,
   "metadata": {},
   "outputs": [],
   "source": [
    "# Since attribute Fare has a very large skewness, it's better to change it to log\n",
    "# scale to prevent machine learning models from being biassed\n",
    "for dataset in full_data:\n",
    "    dataset['Fare'] = dataset['Fare'].apply(lambda x: np.log(x) if x > 0 else 0)"
   ]
  },
  {
   "cell_type": "code",
   "execution_count": 14,
   "metadata": {},
   "outputs": [
    {
     "data": {
      "image/png": "[encoded data removed]",
      "text/plain": [
       "<Figure size 1384.53x216 with 1 Axes>"
      ]
     },
     "metadata": {},
     "output_type": "display_data"
    }
   ],
   "source": [
    "a = sns.FacetGrid(train,hue='Survived',aspect=6)\n",
    "a.map(sns.kdeplot,'Fare',shade=True)\n",
    "a.add_legend()\n",
    "_ = a.axes[0,0].set_title('KDE plot for Survival Rate versus Fare',fontweight='bold')"
   ]
  },
  {
   "cell_type": "markdown",
   "metadata": {},
   "source": [
    "__Observations from these plots__"
   ]
  },
  {
   "cell_type": "markdown",
   "metadata": {},
   "source": [
    "1. Dividing attribute __Age__ to three ranges seems reasonable. Passengers younger than 14 years old have relatively large survival rate. Passengers between 14 and 31 years old have relatively small survival rate. Passengers older than 31 years old have survival rate in between.\n",
    "2. Dividing attribute __Fare__ to two ranges seems reasonable. Passengers who paid more than 2.6 have a survival rate less than those who paid less than 2.6 (__Fare__ is in log scale)."
   ]
  },
  {
   "cell_type": "markdown",
   "metadata": {},
   "source": [
    "## C. Engineer New Features"
   ]
  },
  {
   "cell_type": "markdown",
   "metadata": {},
   "source": [
    "### i. Deck, Cabin_No and Has_Cabin: "
   ]
  },
  {
   "cell_type": "markdown",
   "metadata": {},
   "source": [
    "Three features can be extracted from attribute __Cabin__. __Deck__ is the leading letter in __Cabin__. __Cabin_No__ is the number in __Cabin__. Lots of passengers have nan __Cabin__. It can be supposed that they live in shared compartments.\n",
    "\n",
    "Intuitively, location of __Cabin__ can have influence on survival. Peripheral cabins may get a higher survival chance. __Cabin__ in certain level may be better than other levels. These rules may hide in __Deck__ or patterns in __Cabin_No__. But from experience of myself and other kernels, __Deck__ and __Has_Cabin__ have little effect on improving prediction accuracy. Those passengers having nan __Cabin__ may just mean their __Cabin__ information is missed. I didn't try the __Cabin_No__ attribute."
   ]
  },
  {
   "cell_type": "markdown",
   "metadata": {},
   "source": [
    "### ii. Title:"
   ]
  },
  {
   "cell_type": "markdown",
   "metadata": {},
   "source": [
    "Title can be extracted from attribute __Name__. __Title__ is a very important feature. __Sex__ can be inferred from __Title__. __Age__ can be inferred from __Title__ too. For example, Miss and Master are usually for girls. Class of passenger can also be inferred from __Title__. For example, Major and Col are always in the first class. __Title__ can also provide other information. For example, Revs all scarifice their lives to save others."
   ]
  },
  {
   "cell_type": "code",
   "execution_count": 15,
   "metadata": {
    "scrolled": true
   },
   "outputs": [
    {
     "data": {
      "image/png": "[encoded data removed]",
      "text/plain": [
       "<Figure size 1296x432 with 1 Axes>"
      ]
     },
     "metadata": {},
     "output_type": "display_data"
    }
   ],
   "source": [
    "# Define a function to extract titles from names\n",
    "def get_title(name):\n",
    "    title_search = re.search(' ([A-Za-z]+)\\.',name)\n",
    "    # Return the title if one is found in the name. Return an empty string otherwise\n",
    "    if title_search:\n",
    "        return title_search.group(1)\n",
    "    return ''\n",
    "\n",
    "# Create a new attribute Title extracted from names\n",
    "for dataset in full_data:\n",
    "    dataset['Title'] = dataset['Name'].apply(get_title)\n",
    "    \n",
    "f,ax1 = plt.subplots(1,1,figsize=(18,6))\n",
    "TINY_SIZE = 7\n",
    "plt.rc('xtick', labelsize=TINY_SIZE)\n",
    "sns.barplot(x='Title',y='Survived',data=train,ax=ax1)\n",
    "\n",
    "_ = ax1.set_title('Survival Rate by Title',fontweight='bold')"
   ]
  },
  {
   "cell_type": "code",
   "execution_count": 16,
   "metadata": {},
   "outputs": [
    {
     "data": {
      "text/plain": [
       "Mr          517\n",
       "Miss        182\n",
       "Mrs         125\n",
       "Master       40\n",
       "Dr            7\n",
       "Rev           6\n",
       "Mlle          2\n",
       "Major         2\n",
       "Col           2\n",
       "Countess      1\n",
       "Capt          1\n",
       "Don           1\n",
       "Jonkheer      1\n",
       "Sir           1\n",
       "Ms            1\n",
       "Mme           1\n",
       "Lady          1\n",
       "Name: Title, dtype: int64"
      ]
     },
     "execution_count": 16,
     "metadata": {},
     "output_type": "execute_result"
    }
   ],
   "source": [
    "train['Title'].value_counts()"
   ]
  },
  {
   "cell_type": "code",
   "execution_count": 17,
   "metadata": {},
   "outputs": [
    {
     "data": {
      "text/plain": [
       "Mr        240\n",
       "Miss       78\n",
       "Mrs        72\n",
       "Master     21\n",
       "Rev         2\n",
       "Col         2\n",
       "Ms          1\n",
       "Dr          1\n",
       "Dona        1\n",
       "Name: Title, dtype: int64"
      ]
     },
     "execution_count": 17,
     "metadata": {},
     "output_type": "execute_result"
    }
   ],
   "source": [
    "test['Title'].value_counts()"
   ]
  },
  {
   "cell_type": "code",
   "execution_count": 18,
   "metadata": {},
   "outputs": [],
   "source": [
    "# Titles of a very small value count are combined into similar titles with large value count\n",
    "for dataset in full_data:\n",
    "    dataset['Title'] = dataset['Title'].replace(['Dona','Mme','Countess','Lady','Ms'],'Mrs')\n",
    "    dataset['Title'] = dataset['Title'].replace(['Mlle'],'Miss')\n",
    "    dataset['Title'] = dataset['Title'].replace(['Jonkheer','Don','Capt','Major','Col','Sir'],'Mr')\n",
    "    dataset['Title_Mapped'] = dataset['Title'].map({'Mr':1,'Miss':4,'Mrs':5,'Master':3,'Dr':2,'Rev':0}).astype(int)"
   ]
  },
  {
   "cell_type": "markdown",
   "metadata": {},
   "source": [
    "### iii. Fill Nan Items in Age:"
   ]
  },
  {
   "cell_type": "markdown",
   "metadata": {},
   "source": [
    "This section is inserted here because __Title__ is needed.\n",
    "\n",
    "There are different levels of techniques to insert missed items. First, one can just use the mean or median value of __Age__. Second, one can use the mean and standard deviation of __Age__ to generate random numbers for missed ages. Third, one can fill missed ages according to other passengers who share similar attributes.\n",
    "\n",
    "In general, we want to spend less and get more. Generating random numbers for missed ages is reasonable even though it will statistically give you some wrong numbers.\n",
    "\n",
    "But there are reasons for us to sake a better technique. Women_children model is very important for Titanic data set. If one male in test set is mislabelled by a small age, it's very possible that this man will be mispredicted alive. Since there are only few young boys, when random numbers are generated, there is large chance that young boys will be labelled as adults and some adults will be labelled as young boys. In the public leaderboard, above the gender model, ranking is actually influenced by few predictions. "
   ]
  },
  {
   "cell_type": "code",
   "execution_count": 19,
   "metadata": {},
   "outputs": [
    {
     "data": {
      "image/png": "[encoded data removed]",
      "text/plain": [
       "<Figure size 432x288 with 2 Axes>"
      ]
     },
     "metadata": {},
     "output_type": "display_data"
    }
   ],
   "source": [
    "# Ticket and Cabin should have no relation to age. Correlations between Age and other attributes are examined\n",
    "plt.rc('xtick', labelsize=SMALL_SIZE)\n",
    "g = sns.heatmap(train[[\"Age\",\"Sex\",\"SibSp\",\"Parch\",\"Pclass\",'Title_Mapped','Embarked']].corr(),cmap=\"BrBG\",annot=True)\n",
    "_ = g.set_title('Correlation Plot of Features', y=1.05, fontweight='bold')"
   ]
  },
  {
   "cell_type": "markdown",
   "metadata": {},
   "source": [
    "From the correlation plot, we can find that __Parch__, __SibSp__, __Pclass__ and __Title__ are related to Age."
   ]
  },
  {
   "cell_type": "markdown",
   "metadata": {},
   "source": [
    "Here are some samples showing the feasibility of inferring __Age__ according to __Pclass__, __SibSp__, __Parch__ and __Title__. One lucky thing is that young boys are called 'Master'."
   ]
  },
  {
   "cell_type": "code",
   "execution_count": 20,
   "metadata": {},
   "outputs": [
    {
     "name": "stdout",
     "output_type": "stream",
     "text": [
      "Average Age: 8.333333333333334\n"
     ]
    },
    {
     "data": {
      "text/html": [
       "<div>\n",
       "<style scoped>\n",
       "    .dataframe tbody tr th:only-of-type {\n",
       "        vertical-align: middle;\n",
       "    }\n",
       "\n",
       "    .dataframe tbody tr th {\n",
       "        vertical-align: top;\n",
       "    }\n",
       "\n",
       "    .dataframe thead th {\n",
       "        text-align: right;\n",
       "    }\n",
       "</style>\n",
       "<table border=\"1\" class=\"dataframe\">\n",
       "  <thead>\n",
       "    <tr style=\"text-align: right;\">\n",
       "      <th></th>\n",
       "      <th>Parch</th>\n",
       "      <th>SibSp</th>\n",
       "      <th>Pclass</th>\n",
       "      <th>Title</th>\n",
       "      <th>Age</th>\n",
       "    </tr>\n",
       "  </thead>\n",
       "  <tbody>\n",
       "    <tr>\n",
       "      <th>68</th>\n",
       "      <td>2</td>\n",
       "      <td>4</td>\n",
       "      <td>3</td>\n",
       "      <td>Miss</td>\n",
       "      <td>17.0</td>\n",
       "    </tr>\n",
       "    <tr>\n",
       "      <th>119</th>\n",
       "      <td>2</td>\n",
       "      <td>4</td>\n",
       "      <td>3</td>\n",
       "      <td>Miss</td>\n",
       "      <td>2.0</td>\n",
       "    </tr>\n",
       "    <tr>\n",
       "      <th>233</th>\n",
       "      <td>2</td>\n",
       "      <td>4</td>\n",
       "      <td>3</td>\n",
       "      <td>Miss</td>\n",
       "      <td>5.0</td>\n",
       "    </tr>\n",
       "    <tr>\n",
       "      <th>541</th>\n",
       "      <td>2</td>\n",
       "      <td>4</td>\n",
       "      <td>3</td>\n",
       "      <td>Miss</td>\n",
       "      <td>9.0</td>\n",
       "    </tr>\n",
       "    <tr>\n",
       "      <th>542</th>\n",
       "      <td>2</td>\n",
       "      <td>4</td>\n",
       "      <td>3</td>\n",
       "      <td>Miss</td>\n",
       "      <td>11.0</td>\n",
       "    </tr>\n",
       "    <tr>\n",
       "      <th>813</th>\n",
       "      <td>2</td>\n",
       "      <td>4</td>\n",
       "      <td>3</td>\n",
       "      <td>Miss</td>\n",
       "      <td>6.0</td>\n",
       "    </tr>\n",
       "  </tbody>\n",
       "</table>\n",
       "</div>"
      ],
      "text/plain": [
       "     Parch  SibSp  Pclass Title   Age\n",
       "68       2      4       3  Miss  17.0\n",
       "119      2      4       3  Miss   2.0\n",
       "233      2      4       3  Miss   5.0\n",
       "541      2      4       3  Miss   9.0\n",
       "542      2      4       3  Miss  11.0\n",
       "813      2      4       3  Miss   6.0"
      ]
     },
     "execution_count": 20,
     "metadata": {},
     "output_type": "execute_result"
    }
   ],
   "source": [
    "print('Average Age: {}'.format(train[(train['Parch'] == 2) & (train['SibSp'] == 4) & (train['Pclass'] == 3) & (train['Title'] == 'Miss')]['Age'].mean()))\n",
    "train[(train['Parch'] == 2) & (train['SibSp'] == 4) & (train['Pclass'] == 3) & (train['Title'] == 'Miss')][['Parch','SibSp','Pclass','Title','Age']]"
   ]
  },
  {
   "cell_type": "code",
   "execution_count": 21,
   "metadata": {
    "scrolled": true
   },
   "outputs": [
    {
     "name": "stdout",
     "output_type": "stream",
     "text": [
      "Average Age: 40.8\n"
     ]
    },
    {
     "data": {
      "text/html": [
       "<div>\n",
       "<style scoped>\n",
       "    .dataframe tbody tr th:only-of-type {\n",
       "        vertical-align: middle;\n",
       "    }\n",
       "\n",
       "    .dataframe tbody tr th {\n",
       "        vertical-align: top;\n",
       "    }\n",
       "\n",
       "    .dataframe thead th {\n",
       "        text-align: right;\n",
       "    }\n",
       "</style>\n",
       "<table border=\"1\" class=\"dataframe\">\n",
       "  <thead>\n",
       "    <tr style=\"text-align: right;\">\n",
       "      <th></th>\n",
       "      <th>Parch</th>\n",
       "      <th>SibSp</th>\n",
       "      <th>Pclass</th>\n",
       "      <th>Title</th>\n",
       "      <th>Age</th>\n",
       "    </tr>\n",
       "  </thead>\n",
       "  <tbody>\n",
       "    <tr>\n",
       "      <th>215</th>\n",
       "      <td>0</td>\n",
       "      <td>1</td>\n",
       "      <td>1</td>\n",
       "      <td>Miss</td>\n",
       "      <td>31.0</td>\n",
       "    </tr>\n",
       "    <tr>\n",
       "      <th>275</th>\n",
       "      <td>0</td>\n",
       "      <td>1</td>\n",
       "      <td>1</td>\n",
       "      <td>Miss</td>\n",
       "      <td>63.0</td>\n",
       "    </tr>\n",
       "    <tr>\n",
       "      <th>393</th>\n",
       "      <td>0</td>\n",
       "      <td>1</td>\n",
       "      <td>1</td>\n",
       "      <td>Miss</td>\n",
       "      <td>23.0</td>\n",
       "    </tr>\n",
       "    <tr>\n",
       "      <th>412</th>\n",
       "      <td>0</td>\n",
       "      <td>1</td>\n",
       "      <td>1</td>\n",
       "      <td>Miss</td>\n",
       "      <td>33.0</td>\n",
       "    </tr>\n",
       "    <tr>\n",
       "      <th>496</th>\n",
       "      <td>0</td>\n",
       "      <td>1</td>\n",
       "      <td>1</td>\n",
       "      <td>Miss</td>\n",
       "      <td>54.0</td>\n",
       "    </tr>\n",
       "  </tbody>\n",
       "</table>\n",
       "</div>"
      ],
      "text/plain": [
       "     Parch  SibSp  Pclass Title   Age\n",
       "215      0      1       1  Miss  31.0\n",
       "275      0      1       1  Miss  63.0\n",
       "393      0      1       1  Miss  23.0\n",
       "412      0      1       1  Miss  33.0\n",
       "496      0      1       1  Miss  54.0"
      ]
     },
     "execution_count": 21,
     "metadata": {},
     "output_type": "execute_result"
    }
   ],
   "source": [
    "print('Average Age: {}'.format(train[(train['Parch'] == 0) & (train['SibSp'] == 1) & (train['Pclass'] == 1) & (train['Title'] == 'Miss')]['Age'].mean()))\n",
    "train[(train['Parch'] == 0) & (train['SibSp'] == 1) & (train['Pclass'] == 1) & (train['Title'] == 'Miss')][['Parch','SibSp','Pclass','Title','Age']]"
   ]
  },
  {
   "cell_type": "code",
   "execution_count": 22,
   "metadata": {},
   "outputs": [
    {
     "name": "stdout",
     "output_type": "stream",
     "text": [
      "Average Age: 5.333333333333333\n"
     ]
    },
    {
     "data": {
      "text/html": [
       "<div>\n",
       "<style scoped>\n",
       "    .dataframe tbody tr th:only-of-type {\n",
       "        vertical-align: middle;\n",
       "    }\n",
       "\n",
       "    .dataframe tbody tr th {\n",
       "        vertical-align: top;\n",
       "    }\n",
       "\n",
       "    .dataframe thead th {\n",
       "        text-align: right;\n",
       "    }\n",
       "</style>\n",
       "<table border=\"1\" class=\"dataframe\">\n",
       "  <thead>\n",
       "    <tr style=\"text-align: right;\">\n",
       "      <th></th>\n",
       "      <th>Parch</th>\n",
       "      <th>SibSp</th>\n",
       "      <th>Pclass</th>\n",
       "      <th>Title</th>\n",
       "      <th>Age</th>\n",
       "    </tr>\n",
       "  </thead>\n",
       "  <tbody>\n",
       "    <tr>\n",
       "      <th>182</th>\n",
       "      <td>2</td>\n",
       "      <td>4</td>\n",
       "      <td>3</td>\n",
       "      <td>Master</td>\n",
       "      <td>9.0</td>\n",
       "    </tr>\n",
       "    <tr>\n",
       "      <th>261</th>\n",
       "      <td>2</td>\n",
       "      <td>4</td>\n",
       "      <td>3</td>\n",
       "      <td>Master</td>\n",
       "      <td>3.0</td>\n",
       "    </tr>\n",
       "    <tr>\n",
       "      <th>850</th>\n",
       "      <td>2</td>\n",
       "      <td>4</td>\n",
       "      <td>3</td>\n",
       "      <td>Master</td>\n",
       "      <td>4.0</td>\n",
       "    </tr>\n",
       "  </tbody>\n",
       "</table>\n",
       "</div>"
      ],
      "text/plain": [
       "     Parch  SibSp  Pclass   Title  Age\n",
       "182      2      4       3  Master  9.0\n",
       "261      2      4       3  Master  3.0\n",
       "850      2      4       3  Master  4.0"
      ]
     },
     "execution_count": 22,
     "metadata": {},
     "output_type": "execute_result"
    }
   ],
   "source": [
    "print('Average Age: {}'.format(train[(train['Parch'] == 2) & (train['SibSp'] == 4) & (train['Pclass'] == 3) & (train['Title'] == 'Master')]['Age'].mean()))\n",
    "train[(train['Parch'] == 2) & (train['SibSp'] == 4) & (train['Pclass'] == 3) & (train['Title'] == 'Master')][['Parch','SibSp','Pclass','Title','Age']]"
   ]
  },
  {
   "cell_type": "code",
   "execution_count": 23,
   "metadata": {},
   "outputs": [],
   "source": [
    "# Fill nan items in Age according to 'Pclass', 'Parch' and 'Title'\n",
    "all_data = pd.concat([train,test],axis=0)\n",
    "for dataset in full_data:\n",
    "    index_nan_age = list(dataset['Age'][dataset['Age'].isna()].index)\n",
    "    for i in index_nan_age:\n",
    "        age_med = all_data[(all_data['Pclass'] == dataset.iloc[i]['Pclass']) & (all_data['SibSp'] == dataset.iloc[i]['SibSp']) & (all_data['Parch'] == dataset.iloc[i]['Parch']) & (all_data['Title'] == dataset.iloc[i]['Title'])]['Age'].median()\n",
    "        # 6 passengers with 8 SibSp can't find references, therefore only Pclass, Parch and Title are used for them\n",
    "        age_med_1 = all_data[(all_data['Pclass'] == dataset.iloc[i]['Pclass']) & (all_data['Parch'] == dataset.iloc[i]['Parch']) & (all_data['Title'] == dataset.iloc[i]['Title'])]['Age'].median()\n",
    "        if not np.isnan(age_med):\n",
    "            dataset.iloc[i,dataset.columns.get_loc('Age')] = age_med\n",
    "        else:\n",
    "            dataset.iloc[i,dataset.columns.get_loc('Age')] = age_med_1"
   ]
  },
  {
   "cell_type": "code",
   "execution_count": 24,
   "metadata": {},
   "outputs": [],
   "source": [
    "# Combine categories of Title with similar survial rate\n",
    "for dataset in full_data:\n",
    "    dataset['Title_Mapped'] = dataset['Title_Mapped'].map({0:0,1:0,2:1,3:1,4:2,5:2}).astype(int)"
   ]
  },
  {
   "cell_type": "markdown",
   "metadata": {},
   "source": [
    "### iv. Family_Size and IsAlone:"
   ]
  },
  {
   "cell_type": "markdown",
   "metadata": {},
   "source": [
    "Number of __SibSp__ and __Parch__ can be summed to create __Family_Size__. Lots of kernels find this attribute useful. Afterwards, __IsAlone__ can be created to indicate whether a passenger has zero __SibSp__ and __Parch__. From experience of myself and other kernels, __IsAlone__ isn't helpful. "
   ]
  },
  {
   "cell_type": "code",
   "execution_count": 25,
   "metadata": {},
   "outputs": [
    {
     "data": {
      "image/png": "[encoded data removed]",
      "text/plain": [
       "<Figure size 1296x432 with 1 Axes>"
      ]
     },
     "metadata": {},
     "output_type": "display_data"
    }
   ],
   "source": [
    "# Create attribute Family_Size\n",
    "for dataset in full_data:\n",
    "    dataset['Family_Size'] = dataset['SibSp']+dataset['Parch']\n",
    "    \n",
    "f,ax1 = plt.subplots(1,1,figsize=(18,6))\n",
    "sns.pointplot(x='Family_Size',y='Survived',data=train,ax=ax1)\n",
    "_ = ax1.set_title('Survival Rate versus Family Size',fontweight='bold')"
   ]
  },
  {
   "cell_type": "code",
   "execution_count": 26,
   "metadata": {},
   "outputs": [],
   "source": [
    "for dataset in full_data:\n",
    "    # Categories of family size are relabelled so that larger label has larger survival rate\n",
    "    # Categories of family size with similar survival rate are combined\n",
    "    dataset['Family_Size'] = dataset['Family_Size'].map({10:0,7:1,5:2,4:3,0:4,6:5,1:6,2:7,3:8}).astype(int)\n",
    "    dataset['Family_Size'] = dataset['Family_Size'].map({0:0,1:0,2:1,3:1,4:2,5:2,6:3,7:3,8:3}).astype(int)\n",
    " \n",
    "# SibSp and Parch are reordered to linear classifiers\n",
    "for dataset in full_data:\n",
    "    dataset['SibSp'] = dataset['SibSp'].map({5:0,8:1,4:2,3:3,0:4,2:5,1:6}).astype(int)\n",
    "    dataset['Parch'] = dataset['Parch'].map({4:0,6:1,5:2,0:3,2:4,1:5,3:6,9:6}).astype(int)\n",
    "    \n",
    "# For SibSp and Parch, categories with similar survival rate are grouped together\n",
    "# We only have 891 passengers in the train set. If we have too many attributes or categories for attributes, we \n",
    "# may have very few samples for each group. Since these categories have similar survial rate, it may just\n",
    "# be because of noise. Therefore, we may get overfitting.\n",
    "for dataset in full_data:\n",
    "    dataset['SibSp'] = dataset['SibSp'].map({0:0,1:0,2:1,3:1,4:1,5:2,6:2}).astype(int)\n",
    "    dataset['Parch'] = dataset['Parch'].map({0:0,1:0,2:1,3:1,4:2,5:2,6:2}).astype(int)   "
   ]
  },
  {
   "cell_type": "markdown",
   "metadata": {},
   "source": [
    "#### v. Family_Size_Onboard, Family_Survived, and Family_WCM_Survived:"
   ]
  },
  {
   "cell_type": "markdown",
   "metadata": {},
   "source": [
    "It can be discovered that the __Family_Size__ attribute created by summing __SibSp__ and __Parch__ doesn't reflect number of family members onboard. __SibSp__ and __Parch__ may indicate their number of siblings or spouses, and parent or children in real life.\n",
    "__Family_Size_Onboard__ can be counted after family grouping is performed according to following rules. However, practically, __Family_Size__ instead of __Family_Size_Onboard__ always gives a better accuracy both for cross validation and test set."
   ]
  },
  {
   "cell_type": "code",
   "execution_count": 27,
   "metadata": {},
   "outputs": [],
   "source": [
    "# Get Surname which is an indication of families\n",
    "for dataset in full_data:\n",
    "    dataset['Surname'] = dataset['Name'].apply(lambda x: x.split(',')[0].strip())"
   ]
  },
  {
   "cell_type": "markdown",
   "metadata": {},
   "source": [
    "Surname itself is not enough to identify a family. For example, in the Andersson family shown below, Andersson with ticket '3101281' and '350043' are probably different Anderssons who doesn't belong to this family. However, in the Ali family shown below, their tickets are only different by the last digit. It's reasonable to believe they are from the same family. Therefore, attribute Ticket_N is created by removing the last two digits from Ticket. "
   ]
  },
  {
   "cell_type": "code",
   "execution_count": 28,
   "metadata": {},
   "outputs": [
    {
     "data": {
      "text/html": [
       "<div>\n",
       "<style scoped>\n",
       "    .dataframe tbody tr th:only-of-type {\n",
       "        vertical-align: middle;\n",
       "    }\n",
       "\n",
       "    .dataframe tbody tr th {\n",
       "        vertical-align: top;\n",
       "    }\n",
       "\n",
       "    .dataframe thead th {\n",
       "        text-align: right;\n",
       "    }\n",
       "</style>\n",
       "<table border=\"1\" class=\"dataframe\">\n",
       "  <thead>\n",
       "    <tr style=\"text-align: right;\">\n",
       "      <th></th>\n",
       "      <th>Surname</th>\n",
       "      <th>Ticket</th>\n",
       "    </tr>\n",
       "  </thead>\n",
       "  <tbody>\n",
       "    <tr>\n",
       "      <th>13</th>\n",
       "      <td>Andersson</td>\n",
       "      <td>347082</td>\n",
       "    </tr>\n",
       "    <tr>\n",
       "      <th>68</th>\n",
       "      <td>Andersson</td>\n",
       "      <td>3101281</td>\n",
       "    </tr>\n",
       "    <tr>\n",
       "      <th>119</th>\n",
       "      <td>Andersson</td>\n",
       "      <td>347082</td>\n",
       "    </tr>\n",
       "    <tr>\n",
       "      <th>146</th>\n",
       "      <td>Andersson</td>\n",
       "      <td>350043</td>\n",
       "    </tr>\n",
       "    <tr>\n",
       "      <th>541</th>\n",
       "      <td>Andersson</td>\n",
       "      <td>347082</td>\n",
       "    </tr>\n",
       "    <tr>\n",
       "      <th>542</th>\n",
       "      <td>Andersson</td>\n",
       "      <td>347082</td>\n",
       "    </tr>\n",
       "    <tr>\n",
       "      <th>610</th>\n",
       "      <td>Andersson</td>\n",
       "      <td>347082</td>\n",
       "    </tr>\n",
       "    <tr>\n",
       "      <th>813</th>\n",
       "      <td>Andersson</td>\n",
       "      <td>347082</td>\n",
       "    </tr>\n",
       "    <tr>\n",
       "      <th>850</th>\n",
       "      <td>Andersson</td>\n",
       "      <td>347082</td>\n",
       "    </tr>\n",
       "  </tbody>\n",
       "</table>\n",
       "</div>"
      ],
      "text/plain": [
       "       Surname   Ticket\n",
       "13   Andersson   347082\n",
       "68   Andersson  3101281\n",
       "119  Andersson   347082\n",
       "146  Andersson   350043\n",
       "541  Andersson   347082\n",
       "542  Andersson   347082\n",
       "610  Andersson   347082\n",
       "813  Andersson   347082\n",
       "850  Andersson   347082"
      ]
     },
     "execution_count": 28,
     "metadata": {},
     "output_type": "execute_result"
    }
   ],
   "source": [
    "train[train['Surname'] == 'Andersson'][['Surname','Ticket']]"
   ]
  },
  {
   "cell_type": "code",
   "execution_count": 29,
   "metadata": {},
   "outputs": [
    {
     "data": {
      "text/html": [
       "<div>\n",
       "<style scoped>\n",
       "    .dataframe tbody tr th:only-of-type {\n",
       "        vertical-align: middle;\n",
       "    }\n",
       "\n",
       "    .dataframe tbody tr th {\n",
       "        vertical-align: top;\n",
       "    }\n",
       "\n",
       "    .dataframe thead th {\n",
       "        text-align: right;\n",
       "    }\n",
       "</style>\n",
       "<table border=\"1\" class=\"dataframe\">\n",
       "  <thead>\n",
       "    <tr style=\"text-align: right;\">\n",
       "      <th></th>\n",
       "      <th>Surname</th>\n",
       "      <th>Ticket</th>\n",
       "    </tr>\n",
       "  </thead>\n",
       "  <tbody>\n",
       "    <tr>\n",
       "      <th>210</th>\n",
       "      <td>Ali</td>\n",
       "      <td>SOTON/O.Q. 3101311</td>\n",
       "    </tr>\n",
       "    <tr>\n",
       "      <th>784</th>\n",
       "      <td>Ali</td>\n",
       "      <td>SOTON/O.Q. 3101312</td>\n",
       "    </tr>\n",
       "  </tbody>\n",
       "</table>\n",
       "</div>"
      ],
      "text/plain": [
       "    Surname              Ticket\n",
       "210     Ali  SOTON/O.Q. 3101311\n",
       "784     Ali  SOTON/O.Q. 3101312"
      ]
     },
     "execution_count": 29,
     "metadata": {},
     "output_type": "execute_result"
    }
   ],
   "source": [
    "train[train['Surname'] == 'Ali'][['Surname','Ticket']]"
   ]
  },
  {
   "cell_type": "code",
   "execution_count": 30,
   "metadata": {},
   "outputs": [],
   "source": [
    "# Create attribute Ticket_N by removing the last two digits from Ticket\n",
    "for dataset in full_data:\n",
    "    dataset['Ticket_N'] = dataset['Ticket'].apply(lambda x: x[0:-2]+'XX')"
   ]
  },
  {
   "cell_type": "markdown",
   "metadata": {},
   "source": [
    "So one way to identify families is by grouping passengers with the same __Surname__ and __Ticket_N__.\n",
    "\n",
    "In another way, there is also passengers with different surnames sharing the same __Ticket__. For example, Barber who is a man and Cavendish who is a lady share the same __Ticket__ '19877'. I suppose they are lovers. Fleming shares the same __Ticket__ '17421' with the Thayer family. Since Fleming is a 32.5 years old woman, it's reasonable to suppose that she is a nanny. There are also passengers with totally different surnames sharing the same __Ticket__. I suppose they are very close friends or relatives so they act like a family."
   ]
  },
  {
   "cell_type": "code",
   "execution_count": 31,
   "metadata": {},
   "outputs": [
    {
     "data": {
      "text/html": [
       "<div>\n",
       "<style scoped>\n",
       "    .dataframe tbody tr th:only-of-type {\n",
       "        vertical-align: middle;\n",
       "    }\n",
       "\n",
       "    .dataframe tbody tr th {\n",
       "        vertical-align: top;\n",
       "    }\n",
       "\n",
       "    .dataframe thead th {\n",
       "        text-align: right;\n",
       "    }\n",
       "</style>\n",
       "<table border=\"1\" class=\"dataframe\">\n",
       "  <thead>\n",
       "    <tr style=\"text-align: right;\">\n",
       "      <th></th>\n",
       "      <th>Surname</th>\n",
       "      <th>Sex</th>\n",
       "      <th>Age</th>\n",
       "      <th>Ticket</th>\n",
       "    </tr>\n",
       "  </thead>\n",
       "  <tbody>\n",
       "    <tr>\n",
       "      <th>290</th>\n",
       "      <td>Barber</td>\n",
       "      <td>1</td>\n",
       "      <td>26.0</td>\n",
       "      <td>19877</td>\n",
       "    </tr>\n",
       "    <tr>\n",
       "      <th>741</th>\n",
       "      <td>Cavendish</td>\n",
       "      <td>0</td>\n",
       "      <td>36.0</td>\n",
       "      <td>19877</td>\n",
       "    </tr>\n",
       "  </tbody>\n",
       "</table>\n",
       "</div>"
      ],
      "text/plain": [
       "       Surname  Sex   Age Ticket\n",
       "290     Barber    1  26.0  19877\n",
       "741  Cavendish    0  36.0  19877"
      ]
     },
     "execution_count": 31,
     "metadata": {},
     "output_type": "execute_result"
    }
   ],
   "source": [
    "train[train['Ticket'] == '19877'][['Surname','Sex','Age','Ticket']]"
   ]
  },
  {
   "cell_type": "code",
   "execution_count": 32,
   "metadata": {},
   "outputs": [
    {
     "data": {
      "text/html": [
       "<div>\n",
       "<style scoped>\n",
       "    .dataframe tbody tr th:only-of-type {\n",
       "        vertical-align: middle;\n",
       "    }\n",
       "\n",
       "    .dataframe tbody tr th {\n",
       "        vertical-align: top;\n",
       "    }\n",
       "\n",
       "    .dataframe thead th {\n",
       "        text-align: right;\n",
       "    }\n",
       "</style>\n",
       "<table border=\"1\" class=\"dataframe\">\n",
       "  <thead>\n",
       "    <tr style=\"text-align: right;\">\n",
       "      <th></th>\n",
       "      <th>Surname</th>\n",
       "      <th>Sex</th>\n",
       "      <th>Age</th>\n",
       "      <th>Ticket</th>\n",
       "    </tr>\n",
       "  </thead>\n",
       "  <tbody>\n",
       "    <tr>\n",
       "      <th>306</th>\n",
       "      <td>Fleming</td>\n",
       "      <td>1</td>\n",
       "      <td>32.0</td>\n",
       "      <td>17421</td>\n",
       "    </tr>\n",
       "    <tr>\n",
       "      <th>550</th>\n",
       "      <td>Thayer</td>\n",
       "      <td>0</td>\n",
       "      <td>17.0</td>\n",
       "      <td>17421</td>\n",
       "    </tr>\n",
       "    <tr>\n",
       "      <th>581</th>\n",
       "      <td>Thayer</td>\n",
       "      <td>1</td>\n",
       "      <td>39.0</td>\n",
       "      <td>17421</td>\n",
       "    </tr>\n",
       "    <tr>\n",
       "      <th>698</th>\n",
       "      <td>Thayer</td>\n",
       "      <td>0</td>\n",
       "      <td>49.0</td>\n",
       "      <td>17421</td>\n",
       "    </tr>\n",
       "  </tbody>\n",
       "</table>\n",
       "</div>"
      ],
      "text/plain": [
       "     Surname  Sex   Age Ticket\n",
       "306  Fleming    1  32.0  17421\n",
       "550   Thayer    0  17.0  17421\n",
       "581   Thayer    1  39.0  17421\n",
       "698   Thayer    0  49.0  17421"
      ]
     },
     "execution_count": 32,
     "metadata": {},
     "output_type": "execute_result"
    }
   ],
   "source": [
    "train[train['Ticket'] == '17421'][['Surname','Sex','Age','Ticket']]"
   ]
  },
  {
   "cell_type": "code",
   "execution_count": 33,
   "metadata": {},
   "outputs": [
    {
     "data": {
      "text/html": [
       "<div>\n",
       "<style scoped>\n",
       "    .dataframe tbody tr th:only-of-type {\n",
       "        vertical-align: middle;\n",
       "    }\n",
       "\n",
       "    .dataframe tbody tr th {\n",
       "        vertical-align: top;\n",
       "    }\n",
       "\n",
       "    .dataframe thead th {\n",
       "        text-align: right;\n",
       "    }\n",
       "</style>\n",
       "<table border=\"1\" class=\"dataframe\">\n",
       "  <thead>\n",
       "    <tr style=\"text-align: right;\">\n",
       "      <th></th>\n",
       "      <th>Surname</th>\n",
       "      <th>Sex</th>\n",
       "      <th>Age</th>\n",
       "      <th>Ticket</th>\n",
       "    </tr>\n",
       "  </thead>\n",
       "  <tbody>\n",
       "    <tr>\n",
       "      <th>275</th>\n",
       "      <td>Andrews</td>\n",
       "      <td>1</td>\n",
       "      <td>63.0</td>\n",
       "      <td>13502</td>\n",
       "    </tr>\n",
       "    <tr>\n",
       "      <th>627</th>\n",
       "      <td>Longley</td>\n",
       "      <td>1</td>\n",
       "      <td>21.0</td>\n",
       "      <td>13502</td>\n",
       "    </tr>\n",
       "    <tr>\n",
       "      <th>765</th>\n",
       "      <td>Hogeboom</td>\n",
       "      <td>1</td>\n",
       "      <td>51.0</td>\n",
       "      <td>13502</td>\n",
       "    </tr>\n",
       "  </tbody>\n",
       "</table>\n",
       "</div>"
      ],
      "text/plain": [
       "      Surname  Sex   Age Ticket\n",
       "275   Andrews    1  63.0  13502\n",
       "627   Longley    1  21.0  13502\n",
       "765  Hogeboom    1  51.0  13502"
      ]
     },
     "execution_count": 33,
     "metadata": {},
     "output_type": "execute_result"
    }
   ],
   "source": [
    "train[train['Ticket'] == '13502'][['Surname','Sex','Age','Ticket']]"
   ]
  },
  {
   "cell_type": "markdown",
   "metadata": {},
   "source": [
    "After families are grouped out. Attribute __Family_Survived__ is the majority vote of family members in train set. __Family_WCM_Survived__ is the majortiy vote of woman child members or adult man members separately. \n",
    "\n",
    "In model I, we didn't use these two attributes as input for machine learning algorithms. However, we enforce three rules about family members after predictions are generated using other attributes. 1. If most of woman child members of one family are dead, all family members are supposed to be dead. 2. If most of adult man members are alive, all members are alive. 3. Women and children of a family die or survive together. Adult men die or survive together.\n",
    "\n",
    "In model II, these two attributes are used as imput for machine learning algorithms."
   ]
  },
  {
   "cell_type": "code",
   "execution_count": 34,
   "metadata": {},
   "outputs": [],
   "source": [
    "# Combine train and test set\n",
    "test_helper = test.copy()\n",
    "test_helper['Survived'] = 2\n",
    "# Mark whether a passenger is from train or test set\n",
    "test_helper['Testset'] = 1\n",
    "train_helper = train.copy()\n",
    "train_helper['Testset'] = 0\n",
    "df_helper = pd.concat([train_helper,test_helper],axis=0)\n",
    "\n",
    "# Group passengers sharing the same Surname and Ticket_N into families\n",
    "df_helper =  df_helper.sort_values(['Surname','Ticket_N'])\n",
    "i,j = 0,0\n",
    "df_helper['Family_No'] = 0\n",
    "family_count = 1 # family_count is used to label families\n",
    "num_row = df_helper.shape[0]\n",
    "\n",
    "while j < num_row:\n",
    "    while (j < num_row) and (df_helper.iloc[j]['Surname'] == df_helper.iloc[i]['Surname']) and (df_helper.iloc[j]['Ticket_N'] == df_helper.iloc[i]['Ticket_N']):\n",
    "        j += 1\n",
    "    if j-i > 1:\n",
    "        while i < j:\n",
    "            df_helper.iloc[i,df_helper.columns.get_loc('Family_No')] = family_count\n",
    "            i += 1\n",
    "        family_count += 1\n",
    "    i = j\n",
    "\n",
    "# Group passengers sharing the same Ticket into families\n",
    "df_helper = df_helper.sort_values(['Ticket'])\n",
    "i,j = 0,0\n",
    "\n",
    "while j < num_row:\n",
    "    family_no = 0\n",
    "    while (j < num_row) and (df_helper.iloc[j]['Ticket'] == df_helper.iloc[i]['Ticket']):\n",
    "        # In a group of passengers sharing the same Ticket, if a family is already found according to Surname,\n",
    "        # the family number is assigned to new members. Otherwise, a new family number is assigned to this group\n",
    "        family_no = max(family_no,df_helper.iloc[j]['Family_No'])\n",
    "        j += 1\n",
    "    if j-i > 1:\n",
    "        if not family_no:\n",
    "            while i < j:\n",
    "                df_helper.iloc[i,df_helper.columns.get_loc('Family_No')] = family_count\n",
    "                i += 1\n",
    "            family_count += 1\n",
    "        else:\n",
    "            while i < j:\n",
    "                df_helper.iloc[i,df_helper.columns.get_loc('Family_No')] = family_no\n",
    "                i += 1\n",
    "    i = j\n",
    "    \n",
    "# Define function get_FS_onboard to get number of passengers in a family    \n",
    "def get_FS_onboard(passengerid):\n",
    "    family_no = df_helper.loc[df_helper['PassengerId'] == passengerid]['Family_No'].item()\n",
    "    if family_no == 0:\n",
    "        return 1\n",
    "    else:\n",
    "        return df_helper[df_helper['Family_No'] == family_no].shape[0]\n",
    "    \n",
    "# Create attribute Family_Size_Onboard which is the number of family members on board a passenger has\n",
    "for dataset in full_data:\n",
    "    dataset['Family_Size_Onboard'] = dataset['PassengerId'].apply(get_FS_onboard)"
   ]
  },
  {
   "cell_type": "code",
   "execution_count": 35,
   "metadata": {},
   "outputs": [],
   "source": [
    "# Create a function to get the number with the maximum count in an array\n",
    "def get_majority(A):\n",
    "    majority = 0.5\n",
    "    cnt = 0\n",
    "    for x in range(len(A)):\n",
    "        if cnt == 0:\n",
    "            majority = A[x]\n",
    "            cnt += 1\n",
    "        elif A[x] == majority:\n",
    "            cnt += 1\n",
    "        else:\n",
    "            cnt -= 1\n",
    "    return majority\n",
    "\n",
    "# Create an attribute to identify woman_child\n",
    "# So under what age can a man be called a boy? -No idea. I just tried different values and 18 gives me the best result\n",
    "df_helper['Woman_Child'] = 0\n",
    "df_helper.loc[(df_helper['Sex'] == 1) | (df_helper['Age'] <= 18),'Woman_Child'] = 1\n",
    "\n",
    "# Create attribute Family_WCM_Survived\n",
    "# If the passenger is a woman or child, the value indicates whether a majority of women or children\n",
    "# in her family died or survived\n",
    "# If the passenger is a adult man, the value indicates whether a majority of adult men in his family\n",
    "# died or survived\n",
    "# Create attribute Family_Survived which indicates whether a majority of members in a family died or\n",
    "# survived\n",
    "# If there is no information, default values for these two attributes are 0.5\n",
    "df_helper['Family_WCM_Survived'] = 0.5\n",
    "df_helper['Family_Survived'] = 0.5\n",
    "df_helper = df_helper.sort_values(['Family_No','Woman_Child'])\n",
    "i,j = 0,0\n",
    "while df_helper.iloc[i]['Family_No'] == 0: # Passengers travel alone are passed\n",
    "    i += 1\n",
    "    j += 1\n",
    "while j < num_row:\n",
    "    counter = [[],[],[]]\n",
    "    while (j < num_row) and (df_helper.iloc[j]['Family_No'] == df_helper.iloc[i]['Family_No']):\n",
    "        if df_helper.iloc[j]['Survived'] != 2: # Family members in the test set don't contribute to the majority vote\n",
    "            counter[df_helper.iloc[j]['Woman_Child']].append(df_helper.iloc[j]['Survived'])\n",
    "        j += 1\n",
    "    counter[2].extend(counter[0])\n",
    "    counter[2].extend(counter[1])\n",
    "    counter = [get_majority(counter[0]),get_majority(counter[1]),get_majority(counter[2])]\n",
    "    while i < j:\n",
    "        df_helper.iloc[i,df_helper.columns.get_loc('Family_WCM_Survived')] = counter[df_helper.iloc[i]['Woman_Child']]\n",
    "        df_helper.iloc[i,df_helper.columns.get_loc('Family_Survived')] = counter[2]\n",
    "        i += 1\n",
    "\n",
    "df_helper = df_helper.sort_values(['PassengerId'])\n",
    "\n",
    "train['Family_WCM_Survived'] = df_helper.loc[df_helper['Testset'] == 0]['Family_WCM_Survived']\n",
    "test['Family_WCM_Survived'] = df_helper.loc[df_helper['Testset'] == 1]['Family_WCM_Survived']\n",
    "train['Family_Survived'] = df_helper.loc[df_helper['Testset'] == 0]['Family_Survived']\n",
    "test['Family_Survived'] = df_helper.loc[df_helper['Testset'] == 1]['Family_Survived']"
   ]
  },
  {
   "cell_type": "code",
   "execution_count": 36,
   "metadata": {},
   "outputs": [
    {
     "data": {
      "image/png": "[encoded data removed]",
      "text/plain": [
       "<Figure size 432x288 with 2 Axes>"
      ]
     },
     "metadata": {},
     "output_type": "display_data"
    }
   ],
   "source": [
    "# Test the correctness of above rules we assumed for families in train set.\n",
    "cm = confusion_matrix(train[train['Family_WCM_Survived'] != 0.5]['Family_WCM_Survived'],train[train['Family_WCM_Survived'] != 0.5]['Survived'])\n",
    "cm = pd.DataFrame(cm,index=['Died','Survived'],columns=['Died','Survived'])\n",
    "g = sns.heatmap(cm,cmap=\"BrBG\",annot=True,fmt='g')\n",
    "_ = g.set_xlabel('Predication Label')\n",
    "_ = g.set_ylabel('Truth Label')\n",
    "_ = g.set_title('Confusion Matrix', y=1.05, fontweight='bold')"
   ]
  },
  {
   "cell_type": "markdown",
   "metadata": {},
   "source": [
    "It seems that only 7 out of 456 passengers in the train set doesn't obey these rules. The accuracy is 98.4%."
   ]
  },
  {
   "cell_type": "markdown",
   "metadata": {},
   "source": [
    "The second appoarch I tried is including __Family_WCM_Survived__ and __Family_Survived__ in the input for machine learning algorithms.\n",
    "There are lots of rules hidden in these attributes. For example, female passengers in the third class having a large family have very low survival rate. It's not easy for human to extract these rules using analysis. Therefore, leave these jobs to algorithms."
   ]
  },
  {
   "cell_type": "code",
   "execution_count": 37,
   "metadata": {},
   "outputs": [
    {
     "data": {
      "text/plain": [
       "0.16666666666666666"
      ]
     },
     "execution_count": 37,
     "metadata": {},
     "output_type": "execute_result"
    }
   ],
   "source": [
    "# Survival rate for female passengers in the third class having more than 4 family members onboard\n",
    "train[(train['Family_Size_Onboard'] >= 4) & (train['Sex'] == 1) & (train['Pclass'] == 3)]['Survived'].mean()"
   ]
  },
  {
   "cell_type": "markdown",
   "metadata": {},
   "source": [
    "## D. Forms of Variables"
   ]
  },
  {
   "cell_type": "markdown",
   "metadata": {},
   "source": [
    "__Conitnuous, Discrete or Categoric Variables:__ Attributes have different forms, namely continous, discrete or categoric.\n",
    "From my experience, it's hard to say certain kind of form is better than others. Different algorithms may work better with different form of variables.\n",
    "Talking about cross validation accuracies, I found that continuous variables works better for algorithms involving large numbers of base estimators, such as gradient boosting, random forest and extra trees.\n",
    "Traditional algorithms like logistic regression, k nearest neigbors, and so on, prefer discrete variables.\n",
    "Categoric variables work better for decision tree."
   ]
  },
  {
   "cell_type": "markdown",
   "metadata": {},
   "source": [
    "Creating bins for __Age__ and __Fare__ seems to help improving the score given by Kaggle. Even though it decreases cross validation scores for some models mentioned in the previous paragraph."
   ]
  },
  {
   "cell_type": "markdown",
   "metadata": {},
   "source": [
    "__Normalization:__ The most important difference between machine learning algorithms is how they create decision boundaries between classes which is shown in the following image. Scaling of variables can certainly change these boundaries. Again, it's hard to tell how to achieve the best scaling. A uniform standard is to normalize variables to zero mean and unit deviation."
   ]
  },
  {
   "cell_type": "markdown",
   "metadata": {},
   "source": [
    "<img src=\"https://drive.google.com/open?id=1QOC7YMyO25p-W5CJHequunrBqG-POnFh\" width=\"1000px\" align=\"left\"/>"
   ]
  },
  {
   "cell_type": "code",
   "execution_count": 38,
   "metadata": {},
   "outputs": [],
   "source": [
    "# Create bins for Age and Fare according to previous analysis of KDE plots\n",
    "for dataset in full_data:\n",
    "    dataset['Age_Discrete'] = 0\n",
    "    # The same as what I did for SibSp, Parch and Title, range of Age and Fare with larger survival rate is \n",
    "    # assigned a larger integer\n",
    "    dataset.loc[dataset['Age'] <= 14,'Age_Discrete'] = 2\n",
    "    dataset.loc[(dataset['Age'] > 14) & (dataset['Age'] <= 31),'Age_Discrete'] = 0\n",
    "    dataset.loc[dataset['Age'] > 31,'Age_Discrete'] = 1\n",
    "    dataset['Fare_Discrete'] = 0\n",
    "    dataset.loc[dataset['Fare'] <= 2.6,'Fare_Discrete'] = 0\n",
    "    dataset.loc[dataset['Fare'] > 2.6,'Fare_Discrete'] = 1"
   ]
  },
  {
   "cell_type": "code",
   "execution_count": 39,
   "metadata": {},
   "outputs": [],
   "source": [
    "# Normalize numerical attributes\n",
    "# After I tried different combinations of attributes, Pclass, Sex, Age, Fare, Title, Family_Size, Family_WCM_Survived and Family_Survived\n",
    "# are the ones that help to increase cross validation accuracy\n",
    "attributes = ['Pclass','Sex','Age_Discrete','Fare_Discrete','Title_Mapped','Family_Size','Family_WCM_Survived','Family_Survived']\n",
    "for dataset in full_data:\n",
    "    for attribute in attributes:\n",
    "        mean_value = dataset[attribute].mean()\n",
    "        std_value = dataset[attribute].std()\n",
    "        dataset[attribute+'_Nor'] = dataset[attribute].apply(lambda x: (x-mean_value)/std_value)"
   ]
  },
  {
   "cell_type": "markdown",
   "metadata": {},
   "source": [
    "# 2. Build Models and Generate Results"
   ]
  },
  {
   "cell_type": "markdown",
   "metadata": {},
   "source": [
    "Lots of attributes, such as __SibSp__, __Parch__, __Embarked__, and __Deck__, won't increase either cross validation accuracy or Kaggle score. We drop them just like we combine values with similar survival rate, probably to prevent overfitting."
   ]
  },
  {
   "cell_type": "code",
   "execution_count": 40,
   "metadata": {},
   "outputs": [
    {
     "data": {
      "text/html": [
       "<div>\n",
       "<style scoped>\n",
       "    .dataframe tbody tr th:only-of-type {\n",
       "        vertical-align: middle;\n",
       "    }\n",
       "\n",
       "    .dataframe tbody tr th {\n",
       "        vertical-align: top;\n",
       "    }\n",
       "\n",
       "    .dataframe thead th {\n",
       "        text-align: right;\n",
       "    }\n",
       "</style>\n",
       "<table border=\"1\" class=\"dataframe\">\n",
       "  <thead>\n",
       "    <tr style=\"text-align: right;\">\n",
       "      <th></th>\n",
       "      <th>PassengerId</th>\n",
       "      <th>Survived</th>\n",
       "      <th>Pclass</th>\n",
       "      <th>Sex</th>\n",
       "      <th>Age</th>\n",
       "      <th>Fare</th>\n",
       "      <th>Title_Mapped</th>\n",
       "      <th>Family_Size</th>\n",
       "      <th>Family_WCM_Survived</th>\n",
       "      <th>Family_Survived</th>\n",
       "      <th>Age_Discrete</th>\n",
       "      <th>Fare_Discrete</th>\n",
       "      <th>Pclass_Nor</th>\n",
       "      <th>Sex_Nor</th>\n",
       "      <th>Age_Discrete_Nor</th>\n",
       "      <th>Fare_Discrete_Nor</th>\n",
       "      <th>Title_Mapped_Nor</th>\n",
       "      <th>Family_Size_Nor</th>\n",
       "      <th>Family_WCM_Survived_Nor</th>\n",
       "      <th>Family_Survived_Nor</th>\n",
       "    </tr>\n",
       "  </thead>\n",
       "  <tbody>\n",
       "    <tr>\n",
       "      <th>704</th>\n",
       "      <td>705</td>\n",
       "      <td>0</td>\n",
       "      <td>3</td>\n",
       "      <td>0</td>\n",
       "      <td>26.0</td>\n",
       "      <td>2.061048</td>\n",
       "      <td>0</td>\n",
       "      <td>3</td>\n",
       "      <td>0.0</td>\n",
       "      <td>0.0</td>\n",
       "      <td>0</td>\n",
       "      <td>0</td>\n",
       "      <td>0.826913</td>\n",
       "      <td>-0.737281</td>\n",
       "      <td>-0.834365</td>\n",
       "      <td>-1.037167</td>\n",
       "      <td>-0.801377</td>\n",
       "      <td>1.234953</td>\n",
       "      <td>-1.351511</td>\n",
       "      <td>-1.303289</td>\n",
       "    </tr>\n",
       "    <tr>\n",
       "      <th>655</th>\n",
       "      <td>656</td>\n",
       "      <td>0</td>\n",
       "      <td>2</td>\n",
       "      <td>0</td>\n",
       "      <td>24.0</td>\n",
       "      <td>4.297285</td>\n",
       "      <td>0</td>\n",
       "      <td>3</td>\n",
       "      <td>0.0</td>\n",
       "      <td>0.0</td>\n",
       "      <td>0</td>\n",
       "      <td>1</td>\n",
       "      <td>-0.369158</td>\n",
       "      <td>-0.737281</td>\n",
       "      <td>-0.834365</td>\n",
       "      <td>0.963083</td>\n",
       "      <td>-0.801377</td>\n",
       "      <td>1.234953</td>\n",
       "      <td>-1.351511</td>\n",
       "      <td>-1.303289</td>\n",
       "    </tr>\n",
       "    <tr>\n",
       "      <th>253</th>\n",
       "      <td>254</td>\n",
       "      <td>0</td>\n",
       "      <td>3</td>\n",
       "      <td>0</td>\n",
       "      <td>30.0</td>\n",
       "      <td>2.778819</td>\n",
       "      <td>0</td>\n",
       "      <td>3</td>\n",
       "      <td>0.0</td>\n",
       "      <td>0.0</td>\n",
       "      <td>0</td>\n",
       "      <td>1</td>\n",
       "      <td>0.826913</td>\n",
       "      <td>-0.737281</td>\n",
       "      <td>-0.834365</td>\n",
       "      <td>0.963083</td>\n",
       "      <td>-0.801377</td>\n",
       "      <td>1.234953</td>\n",
       "      <td>-1.351511</td>\n",
       "      <td>-1.303289</td>\n",
       "    </tr>\n",
       "    <tr>\n",
       "      <th>41</th>\n",
       "      <td>42</td>\n",
       "      <td>0</td>\n",
       "      <td>2</td>\n",
       "      <td>1</td>\n",
       "      <td>27.0</td>\n",
       "      <td>3.044522</td>\n",
       "      <td>2</td>\n",
       "      <td>3</td>\n",
       "      <td>0.0</td>\n",
       "      <td>0.0</td>\n",
       "      <td>0</td>\n",
       "      <td>1</td>\n",
       "      <td>-0.369158</td>\n",
       "      <td>1.354813</td>\n",
       "      <td>-0.834365</td>\n",
       "      <td>0.963083</td>\n",
       "      <td>1.320545</td>\n",
       "      <td>1.234953</td>\n",
       "      <td>-1.351511</td>\n",
       "      <td>-1.303289</td>\n",
       "    </tr>\n",
       "    <tr>\n",
       "      <th>291</th>\n",
       "      <td>292</td>\n",
       "      <td>1</td>\n",
       "      <td>1</td>\n",
       "      <td>1</td>\n",
       "      <td>19.0</td>\n",
       "      <td>4.511729</td>\n",
       "      <td>2</td>\n",
       "      <td>3</td>\n",
       "      <td>1.0</td>\n",
       "      <td>1.0</td>\n",
       "      <td>0</td>\n",
       "      <td>1</td>\n",
       "      <td>-1.565228</td>\n",
       "      <td>1.354813</td>\n",
       "      <td>-0.834365</td>\n",
       "      <td>0.963083</td>\n",
       "      <td>1.320545</td>\n",
       "      <td>1.234953</td>\n",
       "      <td>1.445693</td>\n",
       "      <td>1.505007</td>\n",
       "    </tr>\n",
       "    <tr>\n",
       "      <th>580</th>\n",
       "      <td>581</td>\n",
       "      <td>1</td>\n",
       "      <td>2</td>\n",
       "      <td>1</td>\n",
       "      <td>25.0</td>\n",
       "      <td>3.401197</td>\n",
       "      <td>2</td>\n",
       "      <td>3</td>\n",
       "      <td>1.0</td>\n",
       "      <td>1.0</td>\n",
       "      <td>0</td>\n",
       "      <td>1</td>\n",
       "      <td>-0.369158</td>\n",
       "      <td>1.354813</td>\n",
       "      <td>-0.834365</td>\n",
       "      <td>0.963083</td>\n",
       "      <td>1.320545</td>\n",
       "      <td>1.234953</td>\n",
       "      <td>1.445693</td>\n",
       "      <td>1.505007</td>\n",
       "    </tr>\n",
       "    <tr>\n",
       "      <th>356</th>\n",
       "      <td>357</td>\n",
       "      <td>1</td>\n",
       "      <td>1</td>\n",
       "      <td>1</td>\n",
       "      <td>22.0</td>\n",
       "      <td>4.007333</td>\n",
       "      <td>2</td>\n",
       "      <td>3</td>\n",
       "      <td>1.0</td>\n",
       "      <td>1.0</td>\n",
       "      <td>0</td>\n",
       "      <td>1</td>\n",
       "      <td>-1.565228</td>\n",
       "      <td>1.354813</td>\n",
       "      <td>-0.834365</td>\n",
       "      <td>0.963083</td>\n",
       "      <td>1.320545</td>\n",
       "      <td>1.234953</td>\n",
       "      <td>1.445693</td>\n",
       "      <td>1.505007</td>\n",
       "    </tr>\n",
       "    <tr>\n",
       "      <th>718</th>\n",
       "      <td>719</td>\n",
       "      <td>0</td>\n",
       "      <td>3</td>\n",
       "      <td>0</td>\n",
       "      <td>26.0</td>\n",
       "      <td>2.740840</td>\n",
       "      <td>0</td>\n",
       "      <td>2</td>\n",
       "      <td>0.0</td>\n",
       "      <td>0.0</td>\n",
       "      <td>0</td>\n",
       "      <td>1</td>\n",
       "      <td>0.826913</td>\n",
       "      <td>-0.737281</td>\n",
       "      <td>-0.834365</td>\n",
       "      <td>0.963083</td>\n",
       "      <td>-0.801377</td>\n",
       "      <td>-0.427197</td>\n",
       "      <td>-1.351511</td>\n",
       "      <td>-1.303289</td>\n",
       "    </tr>\n",
       "    <tr>\n",
       "      <th>201</th>\n",
       "      <td>202</td>\n",
       "      <td>0</td>\n",
       "      <td>3</td>\n",
       "      <td>0</td>\n",
       "      <td>26.0</td>\n",
       "      <td>4.242046</td>\n",
       "      <td>0</td>\n",
       "      <td>0</td>\n",
       "      <td>0.0</td>\n",
       "      <td>0.0</td>\n",
       "      <td>0</td>\n",
       "      <td>1</td>\n",
       "      <td>0.826913</td>\n",
       "      <td>-0.737281</td>\n",
       "      <td>-0.834365</td>\n",
       "      <td>0.963083</td>\n",
       "      <td>-0.801377</td>\n",
       "      <td>-3.751497</td>\n",
       "      <td>-1.351511</td>\n",
       "      <td>-1.303289</td>\n",
       "    </tr>\n",
       "    <tr>\n",
       "      <th>323</th>\n",
       "      <td>324</td>\n",
       "      <td>1</td>\n",
       "      <td>2</td>\n",
       "      <td>1</td>\n",
       "      <td>22.0</td>\n",
       "      <td>3.367296</td>\n",
       "      <td>2</td>\n",
       "      <td>3</td>\n",
       "      <td>1.0</td>\n",
       "      <td>1.0</td>\n",
       "      <td>0</td>\n",
       "      <td>1</td>\n",
       "      <td>-0.369158</td>\n",
       "      <td>1.354813</td>\n",
       "      <td>-0.834365</td>\n",
       "      <td>0.963083</td>\n",
       "      <td>1.320545</td>\n",
       "      <td>1.234953</td>\n",
       "      <td>1.445693</td>\n",
       "      <td>1.505007</td>\n",
       "    </tr>\n",
       "  </tbody>\n",
       "</table>\n",
       "</div>"
      ],
      "text/plain": [
       "     PassengerId  Survived  Pclass  Sex   Age      Fare  Title_Mapped  \\\n",
       "704          705         0       3    0  26.0  2.061048             0   \n",
       "655          656         0       2    0  24.0  4.297285             0   \n",
       "253          254         0       3    0  30.0  2.778819             0   \n",
       "41            42         0       2    1  27.0  3.044522             2   \n",
       "291          292         1       1    1  19.0  4.511729             2   \n",
       "580          581         1       2    1  25.0  3.401197             2   \n",
       "356          357         1       1    1  22.0  4.007333             2   \n",
       "718          719         0       3    0  26.0  2.740840             0   \n",
       "201          202         0       3    0  26.0  4.242046             0   \n",
       "323          324         1       2    1  22.0  3.367296             2   \n",
       "\n",
       "     Family_Size  Family_WCM_Survived  Family_Survived  Age_Discrete  \\\n",
       "704            3                  0.0              0.0             0   \n",
       "655            3                  0.0              0.0             0   \n",
       "253            3                  0.0              0.0             0   \n",
       "41             3                  0.0              0.0             0   \n",
       "291            3                  1.0              1.0             0   \n",
       "580            3                  1.0              1.0             0   \n",
       "356            3                  1.0              1.0             0   \n",
       "718            2                  0.0              0.0             0   \n",
       "201            0                  0.0              0.0             0   \n",
       "323            3                  1.0              1.0             0   \n",
       "\n",
       "     Fare_Discrete  Pclass_Nor   Sex_Nor  Age_Discrete_Nor  Fare_Discrete_Nor  \\\n",
       "704              0    0.826913 -0.737281         -0.834365          -1.037167   \n",
       "655              1   -0.369158 -0.737281         -0.834365           0.963083   \n",
       "253              1    0.826913 -0.737281         -0.834365           0.963083   \n",
       "41               1   -0.369158  1.354813         -0.834365           0.963083   \n",
       "291              1   -1.565228  1.354813         -0.834365           0.963083   \n",
       "580              1   -0.369158  1.354813         -0.834365           0.963083   \n",
       "356              1   -1.565228  1.354813         -0.834365           0.963083   \n",
       "718              1    0.826913 -0.737281         -0.834365           0.963083   \n",
       "201              1    0.826913 -0.737281         -0.834365           0.963083   \n",
       "323              1   -0.369158  1.354813         -0.834365           0.963083   \n",
       "\n",
       "     Title_Mapped_Nor  Family_Size_Nor  Family_WCM_Survived_Nor  \\\n",
       "704         -0.801377         1.234953                -1.351511   \n",
       "655         -0.801377         1.234953                -1.351511   \n",
       "253         -0.801377         1.234953                -1.351511   \n",
       "41           1.320545         1.234953                -1.351511   \n",
       "291          1.320545         1.234953                 1.445693   \n",
       "580          1.320545         1.234953                 1.445693   \n",
       "356          1.320545         1.234953                 1.445693   \n",
       "718         -0.801377        -0.427197                -1.351511   \n",
       "201         -0.801377        -3.751497                -1.351511   \n",
       "323          1.320545         1.234953                 1.445693   \n",
       "\n",
       "     Family_Survived_Nor  \n",
       "704            -1.303289  \n",
       "655            -1.303289  \n",
       "253            -1.303289  \n",
       "41             -1.303289  \n",
       "291             1.505007  \n",
       "580             1.505007  \n",
       "356             1.505007  \n",
       "718            -1.303289  \n",
       "201            -1.303289  \n",
       "323             1.505007  "
      ]
     },
     "execution_count": 40,
     "metadata": {},
     "output_type": "execute_result"
    }
   ],
   "source": [
    "# Drop useless attributes\n",
    "drop_attributes = ['Name','Ticket','SibSp','Parch','Cabin','Embarked','Title','Surname','Ticket_N','Family_Size_Onboard']\n",
    "train = train.drop(drop_attributes, axis=1)\n",
    "test = test.drop(drop_attributes, axis=1)\n",
    "\n",
    "# Examine the data set one more time before we proceed\n",
    "pd.set_option('display.max_columns',20)\n",
    "train.sample(10)"
   ]
  },
  {
   "cell_type": "code",
   "execution_count": 41,
   "metadata": {},
   "outputs": [
    {
     "data": {
      "text/html": [
       "<div>\n",
       "<style scoped>\n",
       "    .dataframe tbody tr th:only-of-type {\n",
       "        vertical-align: middle;\n",
       "    }\n",
       "\n",
       "    .dataframe tbody tr th {\n",
       "        vertical-align: top;\n",
       "    }\n",
       "\n",
       "    .dataframe thead th {\n",
       "        text-align: right;\n",
       "    }\n",
       "</style>\n",
       "<table border=\"1\" class=\"dataframe\">\n",
       "  <thead>\n",
       "    <tr style=\"text-align: right;\">\n",
       "      <th></th>\n",
       "      <th>PassengerId</th>\n",
       "      <th>Pclass</th>\n",
       "      <th>Sex</th>\n",
       "      <th>Age</th>\n",
       "      <th>Fare</th>\n",
       "      <th>Title_Mapped</th>\n",
       "      <th>Family_Size</th>\n",
       "      <th>Family_WCM_Survived</th>\n",
       "      <th>Family_Survived</th>\n",
       "      <th>Age_Discrete</th>\n",
       "      <th>Fare_Discrete</th>\n",
       "      <th>Pclass_Nor</th>\n",
       "      <th>Sex_Nor</th>\n",
       "      <th>Age_Discrete_Nor</th>\n",
       "      <th>Fare_Discrete_Nor</th>\n",
       "      <th>Title_Mapped_Nor</th>\n",
       "      <th>Family_Size_Nor</th>\n",
       "      <th>Family_WCM_Survived_Nor</th>\n",
       "      <th>Family_Survived_Nor</th>\n",
       "    </tr>\n",
       "  </thead>\n",
       "  <tbody>\n",
       "    <tr>\n",
       "      <th>144</th>\n",
       "      <td>1036</td>\n",
       "      <td>1</td>\n",
       "      <td>0</td>\n",
       "      <td>42.00</td>\n",
       "      <td>3.279030</td>\n",
       "      <td>0</td>\n",
       "      <td>2</td>\n",
       "      <td>0.5</td>\n",
       "      <td>0.5</td>\n",
       "      <td>1</td>\n",
       "      <td>1</td>\n",
       "      <td>-1.503319</td>\n",
       "      <td>-0.755024</td>\n",
       "      <td>0.769237</td>\n",
       "      <td>0.933995</td>\n",
       "      <td>-0.821598</td>\n",
       "      <td>-0.502832</td>\n",
       "      <td>-0.037290</td>\n",
       "      <td>0.058688</td>\n",
       "    </tr>\n",
       "    <tr>\n",
       "      <th>17</th>\n",
       "      <td>909</td>\n",
       "      <td>3</td>\n",
       "      <td>0</td>\n",
       "      <td>21.00</td>\n",
       "      <td>1.977547</td>\n",
       "      <td>0</td>\n",
       "      <td>2</td>\n",
       "      <td>0.5</td>\n",
       "      <td>0.5</td>\n",
       "      <td>0</td>\n",
       "      <td>0</td>\n",
       "      <td>0.872436</td>\n",
       "      <td>-0.755024</td>\n",
       "      <td>-0.776634</td>\n",
       "      <td>-1.068108</td>\n",
       "      <td>-0.821598</td>\n",
       "      <td>-0.502832</td>\n",
       "      <td>-0.037290</td>\n",
       "      <td>0.058688</td>\n",
       "    </tr>\n",
       "    <tr>\n",
       "      <th>286</th>\n",
       "      <td>1178</td>\n",
       "      <td>3</td>\n",
       "      <td>0</td>\n",
       "      <td>26.00</td>\n",
       "      <td>1.981001</td>\n",
       "      <td>0</td>\n",
       "      <td>2</td>\n",
       "      <td>0.5</td>\n",
       "      <td>0.5</td>\n",
       "      <td>0</td>\n",
       "      <td>0</td>\n",
       "      <td>0.872436</td>\n",
       "      <td>-0.755024</td>\n",
       "      <td>-0.776634</td>\n",
       "      <td>-1.068108</td>\n",
       "      <td>-0.821598</td>\n",
       "      <td>-0.502832</td>\n",
       "      <td>-0.037290</td>\n",
       "      <td>0.058688</td>\n",
       "    </tr>\n",
       "    <tr>\n",
       "      <th>277</th>\n",
       "      <td>1169</td>\n",
       "      <td>2</td>\n",
       "      <td>0</td>\n",
       "      <td>40.00</td>\n",
       "      <td>3.258097</td>\n",
       "      <td>0</td>\n",
       "      <td>3</td>\n",
       "      <td>0.5</td>\n",
       "      <td>1.0</td>\n",
       "      <td>1</td>\n",
       "      <td>1</td>\n",
       "      <td>-0.315441</td>\n",
       "      <td>-0.755024</td>\n",
       "      <td>0.769237</td>\n",
       "      <td>0.933995</td>\n",
       "      <td>-0.821598</td>\n",
       "      <td>1.205980</td>\n",
       "      <td>-0.037290</td>\n",
       "      <td>1.591915</td>\n",
       "    </tr>\n",
       "    <tr>\n",
       "      <th>42</th>\n",
       "      <td>934</td>\n",
       "      <td>3</td>\n",
       "      <td>0</td>\n",
       "      <td>41.00</td>\n",
       "      <td>2.060514</td>\n",
       "      <td>0</td>\n",
       "      <td>2</td>\n",
       "      <td>0.5</td>\n",
       "      <td>0.5</td>\n",
       "      <td>1</td>\n",
       "      <td>0</td>\n",
       "      <td>0.872436</td>\n",
       "      <td>-0.755024</td>\n",
       "      <td>0.769237</td>\n",
       "      <td>-1.068108</td>\n",
       "      <td>-0.821598</td>\n",
       "      <td>-0.502832</td>\n",
       "      <td>-0.037290</td>\n",
       "      <td>0.058688</td>\n",
       "    </tr>\n",
       "    <tr>\n",
       "      <th>320</th>\n",
       "      <td>1212</td>\n",
       "      <td>3</td>\n",
       "      <td>0</td>\n",
       "      <td>26.00</td>\n",
       "      <td>2.050913</td>\n",
       "      <td>0</td>\n",
       "      <td>2</td>\n",
       "      <td>0.0</td>\n",
       "      <td>0.0</td>\n",
       "      <td>0</td>\n",
       "      <td>0</td>\n",
       "      <td>0.872436</td>\n",
       "      <td>-0.755024</td>\n",
       "      <td>-0.776634</td>\n",
       "      <td>-1.068108</td>\n",
       "      <td>-0.821598</td>\n",
       "      <td>-0.502832</td>\n",
       "      <td>-1.985672</td>\n",
       "      <td>-1.474539</td>\n",
       "    </tr>\n",
       "    <tr>\n",
       "      <th>354</th>\n",
       "      <td>1246</td>\n",
       "      <td>3</td>\n",
       "      <td>1</td>\n",
       "      <td>0.17</td>\n",
       "      <td>3.024077</td>\n",
       "      <td>2</td>\n",
       "      <td>3</td>\n",
       "      <td>1.0</td>\n",
       "      <td>0.0</td>\n",
       "      <td>2</td>\n",
       "      <td>1</td>\n",
       "      <td>0.872436</td>\n",
       "      <td>1.321292</td>\n",
       "      <td>2.315108</td>\n",
       "      <td>0.933995</td>\n",
       "      <td>1.285321</td>\n",
       "      <td>1.205980</td>\n",
       "      <td>1.911093</td>\n",
       "      <td>-1.474539</td>\n",
       "    </tr>\n",
       "    <tr>\n",
       "      <th>2</th>\n",
       "      <td>894</td>\n",
       "      <td>2</td>\n",
       "      <td>0</td>\n",
       "      <td>62.00</td>\n",
       "      <td>2.270836</td>\n",
       "      <td>0</td>\n",
       "      <td>2</td>\n",
       "      <td>0.5</td>\n",
       "      <td>0.5</td>\n",
       "      <td>1</td>\n",
       "      <td>0</td>\n",
       "      <td>-0.315441</td>\n",
       "      <td>-0.755024</td>\n",
       "      <td>0.769237</td>\n",
       "      <td>-1.068108</td>\n",
       "      <td>-0.821598</td>\n",
       "      <td>-0.502832</td>\n",
       "      <td>-0.037290</td>\n",
       "      <td>0.058688</td>\n",
       "    </tr>\n",
       "    <tr>\n",
       "      <th>185</th>\n",
       "      <td>1077</td>\n",
       "      <td>2</td>\n",
       "      <td>0</td>\n",
       "      <td>40.00</td>\n",
       "      <td>2.772589</td>\n",
       "      <td>0</td>\n",
       "      <td>2</td>\n",
       "      <td>0.5</td>\n",
       "      <td>0.5</td>\n",
       "      <td>1</td>\n",
       "      <td>1</td>\n",
       "      <td>-0.315441</td>\n",
       "      <td>-0.755024</td>\n",
       "      <td>0.769237</td>\n",
       "      <td>0.933995</td>\n",
       "      <td>-0.821598</td>\n",
       "      <td>-0.502832</td>\n",
       "      <td>-0.037290</td>\n",
       "      <td>0.058688</td>\n",
       "    </tr>\n",
       "    <tr>\n",
       "      <th>196</th>\n",
       "      <td>1088</td>\n",
       "      <td>1</td>\n",
       "      <td>0</td>\n",
       "      <td>6.00</td>\n",
       "      <td>4.901564</td>\n",
       "      <td>1</td>\n",
       "      <td>3</td>\n",
       "      <td>1.0</td>\n",
       "      <td>1.0</td>\n",
       "      <td>2</td>\n",
       "      <td>1</td>\n",
       "      <td>-1.503319</td>\n",
       "      <td>-0.755024</td>\n",
       "      <td>2.315108</td>\n",
       "      <td>0.933995</td>\n",
       "      <td>0.231862</td>\n",
       "      <td>1.205980</td>\n",
       "      <td>1.911093</td>\n",
       "      <td>1.591915</td>\n",
       "    </tr>\n",
       "  </tbody>\n",
       "</table>\n",
       "</div>"
      ],
      "text/plain": [
       "     PassengerId  Pclass  Sex    Age      Fare  Title_Mapped  Family_Size  \\\n",
       "144         1036       1    0  42.00  3.279030             0            2   \n",
       "17           909       3    0  21.00  1.977547             0            2   \n",
       "286         1178       3    0  26.00  1.981001             0            2   \n",
       "277         1169       2    0  40.00  3.258097             0            3   \n",
       "42           934       3    0  41.00  2.060514             0            2   \n",
       "320         1212       3    0  26.00  2.050913             0            2   \n",
       "354         1246       3    1   0.17  3.024077             2            3   \n",
       "2            894       2    0  62.00  2.270836             0            2   \n",
       "185         1077       2    0  40.00  2.772589             0            2   \n",
       "196         1088       1    0   6.00  4.901564             1            3   \n",
       "\n",
       "     Family_WCM_Survived  Family_Survived  Age_Discrete  Fare_Discrete  \\\n",
       "144                  0.5              0.5             1              1   \n",
       "17                   0.5              0.5             0              0   \n",
       "286                  0.5              0.5             0              0   \n",
       "277                  0.5              1.0             1              1   \n",
       "42                   0.5              0.5             1              0   \n",
       "320                  0.0              0.0             0              0   \n",
       "354                  1.0              0.0             2              1   \n",
       "2                    0.5              0.5             1              0   \n",
       "185                  0.5              0.5             1              1   \n",
       "196                  1.0              1.0             2              1   \n",
       "\n",
       "     Pclass_Nor   Sex_Nor  Age_Discrete_Nor  Fare_Discrete_Nor  \\\n",
       "144   -1.503319 -0.755024          0.769237           0.933995   \n",
       "17     0.872436 -0.755024         -0.776634          -1.068108   \n",
       "286    0.872436 -0.755024         -0.776634          -1.068108   \n",
       "277   -0.315441 -0.755024          0.769237           0.933995   \n",
       "42     0.872436 -0.755024          0.769237          -1.068108   \n",
       "320    0.872436 -0.755024         -0.776634          -1.068108   \n",
       "354    0.872436  1.321292          2.315108           0.933995   \n",
       "2     -0.315441 -0.755024          0.769237          -1.068108   \n",
       "185   -0.315441 -0.755024          0.769237           0.933995   \n",
       "196   -1.503319 -0.755024          2.315108           0.933995   \n",
       "\n",
       "     Title_Mapped_Nor  Family_Size_Nor  Family_WCM_Survived_Nor  \\\n",
       "144         -0.821598        -0.502832                -0.037290   \n",
       "17          -0.821598        -0.502832                -0.037290   \n",
       "286         -0.821598        -0.502832                -0.037290   \n",
       "277         -0.821598         1.205980                -0.037290   \n",
       "42          -0.821598        -0.502832                -0.037290   \n",
       "320         -0.821598        -0.502832                -1.985672   \n",
       "354          1.285321         1.205980                 1.911093   \n",
       "2           -0.821598        -0.502832                -0.037290   \n",
       "185         -0.821598        -0.502832                -0.037290   \n",
       "196          0.231862         1.205980                 1.911093   \n",
       "\n",
       "     Family_Survived_Nor  \n",
       "144             0.058688  \n",
       "17              0.058688  \n",
       "286             0.058688  \n",
       "277             1.591915  \n",
       "42              0.058688  \n",
       "320            -1.474539  \n",
       "354            -1.474539  \n",
       "2               0.058688  \n",
       "185             0.058688  \n",
       "196             1.591915  "
      ]
     },
     "execution_count": 41,
     "metadata": {},
     "output_type": "execute_result"
    }
   ],
   "source": [
    "test.sample(10)"
   ]
  },
  {
   "cell_type": "code",
   "execution_count": 42,
   "metadata": {},
   "outputs": [],
   "source": [
    "# Data set with normalized attributes\n",
    "train_1 = ['Pclass_Nor','Sex_Nor','Age_Discrete_Nor','Fare_Discrete_Nor','Title_Mapped_Nor','Family_Size_Nor']\n",
    "train_target = ['Survived']\n",
    "\n",
    "# Data set with family survival information\n",
    "train_2 = ['Pclass_Nor','Sex_Nor','Age_Discrete_Nor','Fare_Discrete_Nor','Title_Mapped_Nor','Family_Size_Nor','Family_WCM_Survived','Family_Survived']"
   ]
  },
  {
   "cell_type": "markdown",
   "metadata": {},
   "source": [
    "## A. Model I"
   ]
  },
  {
   "cell_type": "markdown",
   "metadata": {},
   "source": [
    "In model I, a gradient boosting classifier is trained using attributes without family survival information. This classifier is used to make prediction for the test set. Afterwards, rules we assumed for families are enforced to make corrections."
   ]
  },
  {
   "cell_type": "code",
   "execution_count": 43,
   "metadata": {},
   "outputs": [
    {
     "name": "stdout",
     "output_type": "stream",
     "text": [
      "Fitting 10 folds for each of 72 candidates, totalling 720 fits\n"
     ]
    },
    {
     "name": "stderr",
     "output_type": "stream",
     "text": [
      "[Parallel(n_jobs=4)]: Done  76 tasks      | elapsed:    3.3s\n",
      "[Parallel(n_jobs=4)]: Done 376 tasks      | elapsed:   14.6s\n",
      "[Parallel(n_jobs=4)]: Done 720 out of 720 | elapsed:   29.1s finished\n"
     ]
    },
    {
     "data": {
      "text/plain": [
       "0.835016835016835"
      ]
     },
     "execution_count": 43,
     "metadata": {},
     "output_type": "execute_result"
    }
   ],
   "source": [
    "# Cross validate model with Kfold stratified cross validation\n",
    "from sklearn.model_selection import StratifiedKFold\n",
    "kfold = StratifiedKFold(n_splits=10)\n",
    "\n",
    "# Gradient boosting tunning\n",
    "GBC = GradientBoostingClassifier()\n",
    "gb_param_grid = {'loss' : [\"deviance\"],\n",
    "              'n_estimators' : [100,200,300],\n",
    "              'learning_rate': [0.1, 0.05, 0.01],\n",
    "              'max_depth': [4, 8],\n",
    "              'min_samples_leaf': [100,150],\n",
    "              'max_features': [0.3, 0.1] }\n",
    "gsGBC = GridSearchCV(GBC,param_grid = gb_param_grid, cv=kfold, scoring=\"accuracy\", n_jobs= 4, verbose = 1)\n",
    "gsGBC.fit(train[train_1],train[train_target])\n",
    "GBC_best = gsGBC.best_estimator_\n",
    "\n",
    "GBC_predictions = GBC_best.predict(test[train_1])\n",
    "GBC_predictions = pd.Series(GBC_predictions,name='Survived')\n",
    "\n",
    "# Generate submission file for predictions by gradient boosting classifier\n",
    "submission_GBC = pd.concat([passengerid,GBC_predictions],axis=1)\n",
    "submission_GBC.to_csv('submission_GBC',index=False)\n",
    "gsGBC.best_score_"
   ]
  },
  {
   "cell_type": "code",
   "execution_count": 44,
   "metadata": {},
   "outputs": [
    {
     "name": "stdout",
     "output_type": "stream",
     "text": [
      "Number of Corrections Made to the Prediction of Gradient Boosting Classifier: 18\n"
     ]
    }
   ],
   "source": [
    "# Enforce rules we assumed for families\n",
    "n_rows = test.shape[0]\n",
    "# Count the number of corrections made to the result\n",
    "count = 0\n",
    "\n",
    "for i in range(n_rows):\n",
    "    family_wcm_survived = test.iloc[i]['Family_WCM_Survived']\n",
    "    passenger_id = test.iloc[i]['PassengerId']\n",
    "    # Use the result inferred from family members if gradient boosting gives a different prediction\n",
    "    if family_wcm_survived != 0.5 and submission_GBC[submission_GBC['PassengerId'] == passenger_id]['Survived'].item() != family_wcm_survived:\n",
    "        count += 1\n",
    "        submission_GBC.loc[submission_GBC['PassengerId'] == passenger_id,'Survived'] = family_wcm_survived\n",
    "\n",
    "# Generate submission file for model I\n",
    "submission_GBC = submission_GBC.astype(int)\n",
    "submission_GBC.to_csv('submission_M1',index=False)\n",
    "print('Number of Corrections Made to the Prediction of Gradient Boosting Classifier: {}'.format(count))"
   ]
  },
  {
   "cell_type": "markdown",
   "metadata": {},
   "source": [
    "## B. Model II"
   ]
  },
  {
   "cell_type": "markdown",
   "metadata": {},
   "source": [
    "In model II, A stacking model is implemented. Six machine learning algorithms are used to generate meta features using attributes with family survival information. A XGBoost classifier uses these meata features to make predictions.\n",
    "\n",
    "After some attempts, gradient boosting, random forest, extra trees, support vector machine with a rbf kernel, k nearest neighbors, and logistic regression are chosen to produce meta features since they have larger cross validation accuracies. "
   ]
  },
  {
   "cell_type": "markdown",
   "metadata": {},
   "source": [
    "### i. Hyperparameter Tuning of Base Models"
   ]
  },
  {
   "cell_type": "code",
   "execution_count": 45,
   "metadata": {},
   "outputs": [
    {
     "name": "stdout",
     "output_type": "stream",
     "text": [
      "Fitting 10 folds for each of 72 candidates, totalling 720 fits\n"
     ]
    },
    {
     "name": "stderr",
     "output_type": "stream",
     "text": [
      "[Parallel(n_jobs=4)]: Done  76 tasks      | elapsed:    3.5s\n",
      "[Parallel(n_jobs=4)]: Done 376 tasks      | elapsed:   16.0s\n",
      "[Parallel(n_jobs=4)]: Done 720 out of 720 | elapsed:   28.9s finished\n"
     ]
    }
   ],
   "source": [
    "# Record best cross validation accuracies for algorithms\n",
    "best_scores = []\n",
    "\n",
    "# Gradient boosting tunning\n",
    "GBC = GradientBoostingClassifier()\n",
    "gb_param_grid = {'loss' : [\"deviance\"],\n",
    "              'n_estimators' : [100,200,300],\n",
    "              'learning_rate': [0.1, 0.05, 0.01],\n",
    "              'max_depth': [4, 8],\n",
    "              'min_samples_leaf': [100,150],\n",
    "              'max_features': [0.3, 0.1] }\n",
    "gsGBC = GridSearchCV(GBC,param_grid = gb_param_grid, cv=kfold, scoring=\"accuracy\", n_jobs= 4, verbose = 1)\n",
    "gsGBC.fit(train[train_2],train[train_target])\n",
    "GBC_best = gsGBC.best_estimator_\n",
    "\n",
    "# Generate the meta feature by gradient boosting classifier for test set\n",
    "GBC_meta = GBC_best.predict(test[train_2])\n",
    "GBC_meta = pd.Series(GBC_meta,name='GBC_meta')"
   ]
  },
  {
   "cell_type": "code",
   "execution_count": 46,
   "metadata": {},
   "outputs": [],
   "source": [
    "GBC_params = gsGBC.best_params_\n",
    "best_scores.append(gsGBC.best_score_)"
   ]
  },
  {
   "cell_type": "code",
   "execution_count": 47,
   "metadata": {},
   "outputs": [
    {
     "name": "stdout",
     "output_type": "stream",
     "text": [
      "Fitting 10 folds for each of 54 candidates, totalling 540 fits\n"
     ]
    },
    {
     "name": "stderr",
     "output_type": "stream",
     "text": [
      "[Parallel(n_jobs=4)]: Done  42 tasks      | elapsed:   15.9s\n",
      "[Parallel(n_jobs=4)]: Done 192 tasks      | elapsed:  1.0min\n",
      "[Parallel(n_jobs=4)]: Done 442 tasks      | elapsed:  2.4min\n",
      "[Parallel(n_jobs=4)]: Done 540 out of 540 | elapsed:  2.9min finished\n"
     ]
    }
   ],
   "source": [
    "# Random forest tunning \n",
    "random_forest = RandomForestClassifier()\n",
    "rf_param_grid = {\"max_depth\": [None],\n",
    "              \"max_features\": [1, 3, 7],\n",
    "              \"min_samples_split\": [2, 3, 7],\n",
    "              \"min_samples_leaf\": [1, 3, 7],\n",
    "              \"bootstrap\": [False],\n",
    "              \"n_estimators\" :[300,600],\n",
    "              \"criterion\": [\"gini\"]}\n",
    "gsRF = GridSearchCV(random_forest,param_grid = rf_param_grid, cv=kfold, scoring=\"accuracy\", n_jobs= 4, verbose = 1)\n",
    "gsRF.fit(train[train_2],train[train_target])\n",
    "# Best score\n",
    "RF_best = gsRF.best_estimator_\n",
    "\n",
    "# Generate the meta feature by random forest classifier for test set\n",
    "RF_meta = RF_best.predict(test[train_2])\n",
    "RF_meta = pd.Series(RF_meta,name='RF_meta')\n",
    "RF_params = gsRF.best_params_\n",
    "best_scores.append(gsRF.best_score_)"
   ]
  },
  {
   "cell_type": "code",
   "execution_count": 48,
   "metadata": {},
   "outputs": [
    {
     "name": "stdout",
     "output_type": "stream",
     "text": [
      "Fitting 10 folds for each of 54 candidates, totalling 540 fits\n"
     ]
    },
    {
     "name": "stderr",
     "output_type": "stream",
     "text": [
      "[Parallel(n_jobs=4)]: Done  42 tasks      | elapsed:   11.1s\n",
      "[Parallel(n_jobs=4)]: Done 192 tasks      | elapsed:   49.4s\n",
      "[Parallel(n_jobs=4)]: Done 442 tasks      | elapsed:  2.2min\n",
      "[Parallel(n_jobs=4)]: Done 540 out of 540 | elapsed:  2.6min finished\n"
     ]
    }
   ],
   "source": [
    "# ExtraTrees tunning\n",
    "ExtC = ExtraTreesClassifier()\n",
    "ex_param_grid = {\"max_depth\": [None],\n",
    "              \"max_features\": [1, 3, 7],\n",
    "              \"min_samples_split\": [2, 3, 7],\n",
    "              \"min_samples_leaf\": [1, 3, 7],\n",
    "              \"bootstrap\": [False],\n",
    "              \"n_estimators\" :[300,600],\n",
    "              \"criterion\": [\"gini\"]}\n",
    "gsExtC = GridSearchCV(ExtC,param_grid = ex_param_grid, cv=kfold, scoring=\"accuracy\", n_jobs= 4, verbose = 1)\n",
    "gsExtC.fit(train[train_2],train[train_target])\n",
    "ExtC_best = gsExtC.best_estimator_\n",
    "\n",
    "# Generate the meta feature by extra trees classifier for test set\n",
    "ET_meta = ExtC_best.predict(test[train_2])\n",
    "ET_meta = pd.Series(ET_meta,name='ET_meta')\n",
    "EetC_params = gsExtC.best_params_\n",
    "best_scores.append(gsExtC.best_score_)"
   ]
  },
  {
   "cell_type": "code",
   "execution_count": 49,
   "metadata": {},
   "outputs": [
    {
     "name": "stdout",
     "output_type": "stream",
     "text": [
      "Fitting 10 folds for each of 28 candidates, totalling 280 fits\n"
     ]
    },
    {
     "name": "stderr",
     "output_type": "stream",
     "text": [
      "[Parallel(n_jobs=4)]: Done  76 tasks      | elapsed:    1.6s\n",
      "[Parallel(n_jobs=4)]: Done 280 out of 280 | elapsed:    8.1s finished\n"
     ]
    }
   ],
   "source": [
    "# Support vector machine tunning\n",
    "SVMC = SVC(probability=True)\n",
    "svc_param_grid = {'kernel': ['rbf'],\n",
    "                  'gamma': [ 0.001, 0.01, 0.1, 1],\n",
    "                  'C': [1,10,50,100,200,300, 1000]}\n",
    "gsSVMC = GridSearchCV(SVMC,param_grid = svc_param_grid, cv=kfold, scoring=\"accuracy\", n_jobs= 4, verbose = 1)\n",
    "gsSVMC.fit(train[train_2],train[train_target])\n",
    "SVMC_best = gsSVMC.best_estimator_\n",
    "\n",
    "# Generate the meta feature by support vector machine classifier for test set\n",
    "SVMC_meta = SVMC_best.predict(test[train_2])\n",
    "SVMC_meta = pd.Series(SVMC_meta,name='SVMC_meta')"
   ]
  },
  {
   "cell_type": "code",
   "execution_count": 50,
   "metadata": {},
   "outputs": [],
   "source": [
    "SVMC_params = gsSVMC.best_params_\n",
    "best_scores.append(gsSVMC.best_score_)"
   ]
  },
  {
   "cell_type": "code",
   "execution_count": 51,
   "metadata": {},
   "outputs": [
    {
     "name": "stdout",
     "output_type": "stream",
     "text": [
      "Fitting 10 folds for each of 80 candidates, totalling 800 fits\n"
     ]
    },
    {
     "name": "stderr",
     "output_type": "stream",
     "text": [
      "[Parallel(n_jobs=4)]: Done 212 tasks      | elapsed:    1.8s\n",
      "[Parallel(n_jobs=4)]: Done 800 out of 800 | elapsed:    4.4s finished\n"
     ]
    }
   ],
   "source": [
    "# K nearest neighbors tunning\n",
    "KNN = KNeighborsClassifier()\n",
    "knn_param_grid = {'n_neighbors':[3,5,8,13],\n",
    "                  'algorithm': ['auto'],\n",
    "                  'weights': ['uniform','distance'],\n",
    "                  'leaf_size': list(range(1,50,5))}\n",
    "gsKNN = GridSearchCV(KNN,param_grid = knn_param_grid, cv=kfold, scoring=\"accuracy\", n_jobs= 4, verbose = 1)\n",
    "gsKNN.fit(train[train_2],train[train_target])\n",
    "KNN_best = gsKNN.best_estimator_\n",
    "\n",
    "# Generate the meta feature by k nearest neighbors classifier for test set\n",
    "KNN_meta = KNN_best.predict(test[train_2])\n",
    "KNN_meta = pd.Series(KNN_meta,name='KNN_meta')"
   ]
  },
  {
   "cell_type": "code",
   "execution_count": 52,
   "metadata": {},
   "outputs": [],
   "source": [
    "KNN_params = gsKNN.best_params_\n",
    "best_scores.append(gsKNN.best_score_)"
   ]
  },
  {
   "cell_type": "code",
   "execution_count": 53,
   "metadata": {},
   "outputs": [
    {
     "name": "stdout",
     "output_type": "stream",
     "text": [
      "Fitting 10 folds for each of 14 candidates, totalling 140 fits\n"
     ]
    },
    {
     "name": "stderr",
     "output_type": "stream",
     "text": [
      "[Parallel(n_jobs=4)]: Done 140 out of 140 | elapsed:    0.8s finished\n"
     ]
    }
   ],
   "source": [
    "# Logistic regression tunning\n",
    "LogR = LogisticRegression()\n",
    "LogR_param_grid = {'penalty': ['l1','l2'],\n",
    "                  'C': [0.001,0.01,0.1,1,10,100,1000]}\n",
    "gsLogR = GridSearchCV(LogR,param_grid = LogR_param_grid, cv=kfold, scoring=\"accuracy\", n_jobs= 4, verbose = 1)\n",
    "gsLogR.fit(train[train_2],train[train_target])\n",
    "LogR_best = gsLogR.best_estimator_\n",
    "\n",
    "# Generate the meta feature by k nearest neighbors classifier for test set\n",
    "LogR_meta = LogR_best.predict(test[train_2])\n",
    "LogR_meta = pd.Series(LogR_meta,name='LogR_meta')"
   ]
  },
  {
   "cell_type": "code",
   "execution_count": 54,
   "metadata": {},
   "outputs": [],
   "source": [
    "LogR_params = gsLogR.best_params_\n",
    "best_scores.append(gsLogR.best_score_)"
   ]
  },
  {
   "cell_type": "code",
   "execution_count": 55,
   "metadata": {},
   "outputs": [
    {
     "data": {
      "image/png": "[encoded data removed]",
      "text/plain": [
       "<Figure size 432x288 with 1 Axes>"
      ]
     },
     "metadata": {},
     "output_type": "display_data"
    }
   ],
   "source": [
    "# Compare the best cross validation scores of these algorithms\n",
    "cv_scores = pd.DataFrame({\"Cross Validation Scores\":best_scores,\"Algorithm\":['GBoosting',  'RandomForest', 'ExtraTrees',\n",
    "    'RBF SVM','KNN','LogRegression']})\n",
    "\n",
    "g = sns.barplot(\"Cross Validation Scores\",\"Algorithm\",data = cv_scores, palette=\"Set3\",orient = \"h\")\n",
    "_ = g.set_title(\"Cross Validation Scores for Different Algorithms\",y=1.05,fontweight='bold')"
   ]
  },
  {
   "cell_type": "markdown",
   "metadata": {},
   "source": [
    "__Notice that after family survival information is added, most of cross validation accuracies reaches more than 0.9.__"
   ]
  },
  {
   "cell_type": "markdown",
   "metadata": {},
   "source": [
    "### ii. Stacking"
   ]
  },
  {
   "cell_type": "code",
   "execution_count": 56,
   "metadata": {},
   "outputs": [],
   "source": [
    "# Generate test data set comprised of meta features\n",
    "test_meta = pd.concat([GBC_meta,RF_meta,ET_meta,SVMC_meta,KNN_meta,LogR_meta],axis=1)"
   ]
  },
  {
   "cell_type": "code",
   "execution_count": 57,
   "metadata": {},
   "outputs": [
    {
     "ename": "NameError",
     "evalue": "name 'ExtC_params' is not defined",
     "output_type": "error",
     "traceback": [
      "\u001b[0;31m---------------------------------------------------------------------------\u001b[0m",
      "\u001b[0;31mNameError\u001b[0m                                 Traceback (most recent call last)",
      "\u001b[0;32m<ipython-input-57-d4893d85143f>\u001b[0m in \u001b[0;36m<module>\u001b[0;34m()\u001b[0m\n\u001b[1;32m      2\u001b[0m \u001b[0mGBC\u001b[0m \u001b[0;34m=\u001b[0m \u001b[0mGradientBoostingClassifier\u001b[0m\u001b[0;34m(\u001b[0m\u001b[0;34m**\u001b[0m\u001b[0mGBC_params\u001b[0m\u001b[0;34m)\u001b[0m\u001b[0;34m\u001b[0m\u001b[0m\n\u001b[1;32m      3\u001b[0m \u001b[0mRF\u001b[0m \u001b[0;34m=\u001b[0m \u001b[0mRandomForestClassifier\u001b[0m\u001b[0;34m(\u001b[0m\u001b[0;34m**\u001b[0m\u001b[0mRF_params\u001b[0m\u001b[0;34m)\u001b[0m\u001b[0;34m\u001b[0m\u001b[0m\n\u001b[0;32m----> 4\u001b[0;31m \u001b[0mExtC\u001b[0m \u001b[0;34m=\u001b[0m \u001b[0mExtraTreesClassifier\u001b[0m\u001b[0;34m(\u001b[0m\u001b[0;34m**\u001b[0m\u001b[0mExtC_params\u001b[0m\u001b[0;34m)\u001b[0m\u001b[0;34m\u001b[0m\u001b[0m\n\u001b[0m\u001b[1;32m      5\u001b[0m \u001b[0mSVMC\u001b[0m \u001b[0;34m=\u001b[0m \u001b[0mSVC\u001b[0m\u001b[0;34m(\u001b[0m\u001b[0;34m**\u001b[0m\u001b[0mSVMC_params\u001b[0m\u001b[0;34m,\u001b[0m\u001b[0mprobability\u001b[0m\u001b[0;34m=\u001b[0m\u001b[0;32mTrue\u001b[0m\u001b[0;34m)\u001b[0m\u001b[0;34m\u001b[0m\u001b[0m\n\u001b[1;32m      6\u001b[0m \u001b[0mKNN\u001b[0m \u001b[0;34m=\u001b[0m \u001b[0mKNeighborsClassifier\u001b[0m\u001b[0;34m(\u001b[0m\u001b[0;34m**\u001b[0m\u001b[0mKNN_params\u001b[0m\u001b[0;34m)\u001b[0m\u001b[0;34m\u001b[0m\u001b[0m\n",
      "\u001b[0;31mNameError\u001b[0m: name 'ExtC_params' is not defined"
     ]
    }
   ],
   "source": [
    "# Create classifier objects using optimal parameters\n",
    "GBC = GradientBoostingClassifier(**GBC_params)\n",
    "RF = RandomForestClassifier(**RF_params)\n",
    "ExtC = ExtraTreesClassifier(**ExtC_params)\n",
    "SVMC = SVC(**SVMC_params,probability=True)\n",
    "KNN = KNeighborsClassifier(**KNN_params)\n",
    "LogR = LogisticRegression(**LogR_params)"
   ]
  },
  {
   "cell_type": "code",
   "execution_count": null,
   "metadata": {},
   "outputs": [],
   "source": [
    "n = train.shape[0]\n",
    "x_train = train[train_2].values\n",
    "y_train = train[train_target].values\n",
    "\n",
    "kf = KFold(n,10,random_state=2)\n",
    "# Define a function to generate meta features using a manner of cross validation\n",
    "def gen_meta_features(clf,x,y):\n",
    "    feature = np.zeros((len(y),))\n",
    "    for train_index,test_index in kf:\n",
    "        model = clf.fit(x[train_index],y[train_index])\n",
    "        feature[test_index] = model.predict(x[test_index])\n",
    "    return feature\n",
    "\n",
    "GBC_meta = pd.Series(gen_meta_features(GBC,x_train,y_train),name='GBC_meta')\n",
    "RF_meta = pd.Series(gen_meta_features(RF,x_train,y_train),name='RF_meta')\n",
    "ET_meta = pd.Series(gen_meta_features(ExtC,x_train,y_train),name='ET_meta')\n",
    "SVMC_meta = pd.Series(gen_meta_features(SVMC,x_train,y_train),name='SVMC_meta')\n",
    "KNN_meta = pd.Series(gen_meta_features(KNN,x_train,y_train),name='KNN_meta')\n",
    "LogR_meta = pd.Series(gen_meta_features(LogR,x_train,y_train),name='LogR_meta')\n",
    "# Generate train data set comprised of meta features\n",
    "train_meta = pd.concat([GBC_meta,RF_meta,ET_meta,SVMC_meta,KNN_meta,LogR_meta],axis=1)"
   ]
  },
  {
   "cell_type": "code",
   "execution_count": null,
   "metadata": {},
   "outputs": [],
   "source": [
    "# Train an XGBoost Classifier using meta features of train set\n",
    "gbm = xgb.XGBClassifier(learning_rate = 0.95,\n",
    " n_estimators= 5000,\n",
    " max_depth= 4,\n",
    " min_child_weight= 2,\n",
    " #gamma=1,\n",
    " gamma=1,                        \n",
    " subsample=0.8,\n",
    " colsample_bytree=0.8,\n",
    " objective= 'binary:logistic',\n",
    " nthread= -1,\n",
    " scale_pos_weight=1).fit(x_train, y_train).fit(train_meta, train[train_target])\n",
    "\n",
    "# Make predictions using meta features of test set\n",
    "stacking_predictions = gbm.predict(test_meta)\n",
    "stacking_predictions = pd.Series(stacking_predictions,name='Survived')\n",
    "\n",
    "# Generate submission file for predictions by the stacking model\n",
    "submission_stacking = pd.concat([passengerid,stacking_predictions],axis=1)\n",
    "submission_stacking.to_csv('submission_stacking',index=False)"
   ]
  },
  {
   "cell_type": "code",
   "execution_count": null,
   "metadata": {},
   "outputs": [],
   "source": [
    "# Check whether rules we assumed for family members are already learnt by algorithms\n",
    "n_rows = test.shape[0]\n",
    "# Count the number of corrections made to the result predicted by the stacking model\n",
    "count = 0\n",
    "\n",
    "for i in range(n_rows):\n",
    "    family_wcm_survived = test.iloc[i]['Family_WCM_Survived']\n",
    "    passenger_id = test.iloc[i]['PassengerId']\n",
    "    # Use the result inferred from other family members if stacking model gives a different prediction\n",
    "    if family_wcm_survived != 0.5 and submission_stacking[submission_stacking['PassengerId'] == passenger_id]['Survived'].item() != family_wcm_survived:\n",
    "        count += 1\n",
    "\n",
    "print('Number of Corrections Made to the Prediction of Model II: {}'.format(count))"
   ]
  },
  {
   "cell_type": "markdown",
   "metadata": {},
   "source": [
    "It can be seen that no correction is made to the prediction of model II. Machine learning algorithms really learnt the rules we assumed for family members after family survival information is used as features.\n",
    "For Model I, Kaggle gives me a scores of 0.827. For Model II, it is 0.818. I cheat a little by changing a Sweet, 14 years old boy, traveling with family Herman to death. It increases my score by 0.005."
   ]
  },
  {
   "cell_type": "markdown",
   "metadata": {},
   "source": [
    "From my experiences, it often happens that you get a high cross validation accuracy while Kaggle gives you a bad score. One thing to keep in mind is that the leaderboard score is only evaluated using a subset of test data. Final score will probably be evaluated using a rather different subset."
   ]
  },
  {
   "cell_type": "markdown",
   "metadata": {},
   "source": [
    "It might be possible to extract cabin location information from __Cabin__ and __Ticket__ to achieve further improvement. "
   ]
  }
 ],
 "metadata": {
  "kernelspec": {
   "display_name": "Python 3",
   "language": "python",
   "name": "python3"
  },
  "language_info": {
   "codemirror_mode": {
    "name": "ipython",
    "version": 3
   },
   "file_extension": ".py",
   "mimetype": "text/x-python",
   "name": "python",
   "nbconvert_exporter": "python",
   "pygments_lexer": "ipython3",
   "version": "3.6.4"
  }
 },
 "nbformat": 4,
 "nbformat_minor": 2
}
